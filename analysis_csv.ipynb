{
 "cells": [
  {
   "cell_type": "code",
   "execution_count": 1,
   "id": "2d0232cc",
   "metadata": {},
   "outputs": [],
   "source": [
    "import pandas as pd\n",
    "from mpl_toolkits import mplot3d\n",
    "import numpy as np\n",
    "import matplotlib.pyplot as plt\n",
    "from scipy.signal import argrelextrema\n",
    "import os"
   ]
  },
  {
   "cell_type": "code",
   "execution_count": 2,
   "id": "bb31faa4",
   "metadata": {},
   "outputs": [],
   "source": [
    "def plot_colormap(data,title = \"AUT and QUARTZ\",path = \"\"):\n",
    "    \"\"\"\n",
    "    Helper function to plot data with associated colormap.\n",
    "    \"\"\"\n",
    "   # fig, axs = plt.subplots(1, n, figsize=(n * 2 + 2, 3),\n",
    "    #                        constrained_layout=True, squeeze=False)\n",
    "    figure, axes = plt.subplots(figsize=(data.shape[1]/5,data.shape[0]/5))\n",
    "    psm = axes.pcolormesh(data, cmap='rainbow',rasterized=True)\n",
    "    figure.colorbar(psm, ax=axes)\n",
    "    axes.invert_yaxis()\n",
    "    if abs(data.shape[1]-data.shape[0])<=1:\n",
    "        print(data.shape[1],data.shape[0])\n",
    "        axes.set_aspect('equal', adjustable='box')\n",
    "    plt.title(title)\n",
    "    #plt.savefig(path+\" \"+title)\n",
    "    plt.show()"
   ]
  },
  {
   "cell_type": "code",
   "execution_count": 3,
   "id": "f7f3dbb5",
   "metadata": {},
   "outputs": [
    {
     "data": {
      "text/plain": [
       "['../data/221115_review/A_221015_250nm_negative/22o15003.abf-pqty=25_current.csv',\n",
       " '../data/221115_review/A_221015_250nm_negative/22o15003.abf_current_div-pqty=25.csv',\n",
       " '../data/221115_review/A_221015_250nm_negative/22o15003.abf_current_subs-pqty=25.csv',\n",
       " '../data/221115_review/A_221015_250nm_negative/22o15003.abf_EMF-pqty=25.csv',\n",
       " '../data/221115_review/A_221015_250nm_negative/22o15003.abf_EMF_close-pqty=25.csv',\n",
       " '../data/221115_review/A_221015_250nm_negative/22o15003.abf_EMF_div-pqty=25.csv',\n",
       " '../data/221115_review/A_221015_250nm_negative/22o15003.abf_EMF_far-pqty=25.csv',\n",
       " '../data/221115_review/A_221015_250nm_negative/22o15003.abf_EMF_subs-pqty=25.csv',\n",
       " '../data/221115_review/A_221015_250nm_positive/22o15002.abf-pqty=25_current.csv',\n",
       " '../data/221115_review/A_221015_250nm_positive/22o15002.abf_current_div-pqty=25.csv',\n",
       " '../data/221115_review/A_221015_250nm_positive/22o15002.abf_current_subs-pqty=25.csv',\n",
       " '../data/221115_review/A_221015_250nm_positive/22o15002.abf_EMF-pqty=25.csv',\n",
       " '../data/221115_review/A_221015_250nm_positive/22o15002.abf_EMF_close-pqty=25.csv',\n",
       " '../data/221115_review/A_221015_250nm_positive/22o15002.abf_EMF_div-pqty=25.csv',\n",
       " '../data/221115_review/A_221015_250nm_positive/22o15002.abf_EMF_far-pqty=25.csv',\n",
       " '../data/221115_review/A_221015_250nm_positive/22o15002.abf_EMF_subs-pqty=25.csv',\n",
       " '../data/221115_review/B_221109_380nm_negative/22n09004.abf-pqty=25_current.csv',\n",
       " '../data/221115_review/B_221109_380nm_negative/22n09004.abf_current_div-pqty=25.csv',\n",
       " '../data/221115_review/B_221109_380nm_negative/22n09004.abf_current_subs-pqty=25.csv',\n",
       " '../data/221115_review/B_221109_380nm_negative/22n09004.abf_EMF-pqty=25.csv',\n",
       " '../data/221115_review/B_221109_380nm_negative/22n09004.abf_EMF_close-pqty=25.csv',\n",
       " '../data/221115_review/B_221109_380nm_negative/22n09004.abf_EMF_div-pqty=25.csv',\n",
       " '../data/221115_review/B_221109_380nm_negative/22n09004.abf_EMF_far-pqty=25.csv',\n",
       " '../data/221115_review/B_221109_380nm_negative/22n09004.abf_EMF_subs-pqty=25.csv',\n",
       " '../data/221115_review/B_221109_380nm_positive/22n09005.abf-pqty=25_current.csv',\n",
       " '../data/221115_review/B_221109_380nm_positive/22n09005.abf_current_div-pqty=25.csv',\n",
       " '../data/221115_review/B_221109_380nm_positive/22n09005.abf_current_subs-pqty=25.csv',\n",
       " '../data/221115_review/B_221109_380nm_positive/22n09005.abf_EMF-pqty=25.csv',\n",
       " '../data/221115_review/B_221109_380nm_positive/22n09005.abf_EMF_close-pqty=25.csv',\n",
       " '../data/221115_review/B_221109_380nm_positive/22n09005.abf_EMF_div-pqty=25.csv',\n",
       " '../data/221115_review/B_221109_380nm_positive/22n09005.abf_EMF_far-pqty=25.csv',\n",
       " '../data/221115_review/B_221109_380nm_positive/22n09005.abf_EMF_subs-pqty=25.csv',\n",
       " '../data/221115_review/C_221015_480nm_negative/22o15010.abf-pqty=25_current.csv',\n",
       " '../data/221115_review/C_221015_480nm_negative/22o15010.abf_current_div-pqty=25.csv',\n",
       " '../data/221115_review/C_221015_480nm_negative/22o15010.abf_current_subs-pqty=25.csv',\n",
       " '../data/221115_review/C_221015_480nm_negative/22o15010.abf_EMF-pqty=25.csv',\n",
       " '../data/221115_review/C_221015_480nm_negative/22o15010.abf_EMF_close-pqty=25.csv',\n",
       " '../data/221115_review/C_221015_480nm_negative/22o15010.abf_EMF_div-pqty=25.csv',\n",
       " '../data/221115_review/C_221015_480nm_negative/22o15010.abf_EMF_far-pqty=25.csv',\n",
       " '../data/221115_review/C_221015_480nm_negative/22o15010.abf_EMF_subs-pqty=25.csv',\n",
       " '../data/221115_review/C_221015_480nm_positive/22o15009.abf-pqty=25_current.csv',\n",
       " '../data/221115_review/C_221015_480nm_positive/22o15009.abf_current_div-pqty=25.csv',\n",
       " '../data/221115_review/C_221015_480nm_positive/22o15009.abf_current_subs-pqty=25.csv',\n",
       " '../data/221115_review/C_221015_480nm_positive/22o15009.abf_EMF-pqty=25.csv',\n",
       " '../data/221115_review/C_221015_480nm_positive/22o15009.abf_EMF_close-pqty=25.csv',\n",
       " '../data/221115_review/C_221015_480nm_positive/22o15009.abf_EMF_div-pqty=25.csv',\n",
       " '../data/221115_review/C_221015_480nm_positive/22o15009.abf_EMF_far-pqty=25.csv',\n",
       " '../data/221115_review/C_221015_480nm_positive/22o15009.abf_EMF_subs-pqty=25.csv',\n",
       " '../data/221115_review/D_221011_750nm_negative/22o15013.abf-pqty=25_current.csv',\n",
       " '../data/221115_review/D_221011_750nm_negative/22o15013.abf_current_div-pqty=25.csv',\n",
       " '../data/221115_review/D_221011_750nm_negative/22o15013.abf_current_subs-pqty=25.csv',\n",
       " '../data/221115_review/D_221011_750nm_negative/22o15013.abf_EMF-pqty=25.csv',\n",
       " '../data/221115_review/D_221011_750nm_negative/22o15013.abf_EMF_close-pqty=25.csv',\n",
       " '../data/221115_review/D_221011_750nm_negative/22o15013.abf_EMF_div-pqty=25.csv',\n",
       " '../data/221115_review/D_221011_750nm_negative/22o15013.abf_EMF_far-pqty=25.csv',\n",
       " '../data/221115_review/D_221011_750nm_negative/22o15013.abf_EMF_subs-pqty=25.csv',\n",
       " '../data/221115_review/D_221011_750nm_postive/22o15012.abf-pqty=25_current.csv',\n",
       " '../data/221115_review/D_221011_750nm_postive/22o15012.abf_current_div-pqty=25.csv',\n",
       " '../data/221115_review/D_221011_750nm_postive/22o15012.abf_current_subs-pqty=25.csv',\n",
       " '../data/221115_review/D_221011_750nm_postive/22o15012.abf_EMF-pqty=25.csv',\n",
       " '../data/221115_review/D_221011_750nm_postive/22o15012.abf_EMF_close-pqty=25.csv',\n",
       " '../data/221115_review/D_221011_750nm_postive/22o15012.abf_EMF_div-pqty=25.csv',\n",
       " '../data/221115_review/D_221011_750nm_postive/22o15012.abf_EMF_far-pqty=25.csv',\n",
       " '../data/221115_review/D_221011_750nm_postive/22o15012.abf_EMF_subs-pqty=25.csv']"
      ]
     },
     "execution_count": 3,
     "metadata": {},
     "output_type": "execute_result"
    }
   ],
   "source": [
    "data_dir = \"../data/221115_review/\"\n",
    "lst=os.listdir(data_dir)\n",
    "files = []\n",
    "for l in lst:\n",
    "    if l[0] != '.':\n",
    "        f_lst = os.listdir(data_dir+l)\n",
    "        for f in f_lst:\n",
    "            if '.png' not in f:\n",
    "                files.append(data_dir+l+'/'+f)\n",
    "files"
   ]
  },
  {
   "cell_type": "code",
   "execution_count": 16,
   "id": "dca42794",
   "metadata": {},
   "outputs": [
    {
     "data": {
      "text/plain": [
       "['.ipynb_checkpoints',\n",
       " 'A_221015_250nm_negative',\n",
       " 'A_221015_250nm_positive',\n",
       " 'B_221109_380nm_negative',\n",
       " 'B_221109_380nm_positive',\n",
       " 'C_221015_480nm_negative',\n",
       " 'C_221015_480nm_positive',\n",
       " 'D_221011_750nm_negative',\n",
       " 'D_221011_750nm_postive']"
      ]
     },
     "execution_count": 16,
     "metadata": {},
     "output_type": "execute_result"
    }
   ],
   "source": [
    "lst"
   ]
  },
  {
   "cell_type": "code",
   "execution_count": null,
   "id": "d2da1c70",
   "metadata": {},
   "outputs": [],
   "source": [
    "def process(path):\n",
    "    if 'div' not in path and 'subs' not in path:\n",
    "        return\n",
    "    else:\n",
    "        print(path)\n",
    "    df = pd.read_csv(path,header = None)\n",
    "    Z = np.transpose(np.array(df))\n",
    "    \n",
    "    # Plot 2 plots\n",
    "    fig = plt.figure(figsize=(Z.shape[1]/2,Z.shape[0]/5))\n",
    "    ax0 = plt.subplot2grid((2,3),(0,0))\n",
    "    ax1 = plt.subplot2grid((2,3),(1,0))\n",
    "    ax2 = plt.subplot2grid((2,3),(0,1),rowspan = 2,colspan = 2)\n",
    "    ax0.invert_yaxis()\n",
    "    ax1.invert_yaxis()\n",
    "    ax0.set_aspect('equal', adjustable='box')\n",
    "    ax1.set_aspect('equal', adjustable='box')\n",
    "    \n",
    "    psm = ax0.pcolormesh(Z, cmap='rainbow',rasterized=True)\n",
    "    fig.colorbar(psm, ax=ax0)\n",
    "    ax0.set_title(\"Original\")\n",
    "    \n",
    "    bins = [(np.mean(Z))]\n",
    "    z_dig = np.digitize(Z,bins)\n",
    "    D = (1-z_dig)*Z\n",
    "    '''\n",
    "    if 'neg' in p and 'subs' in p:\n",
    "        D = z_dig*Z\n",
    "    else:\n",
    "        D = (1-z_dig)*Z\n",
    "    ''' \n",
    "    psm = ax1.pcolormesh(z_dig, cmap='cool',rasterized=True)\n",
    "    fig.colorbar(psm, ax=ax1)\n",
    "    ax1.set_title(\"After process\")\n",
    "    \n",
    "    \n",
    "    class1 = (z_dig*Z).flatten()\n",
    "    class2 = ((1-z_dig)*Z).flatten()\n",
    "    class1 = class1[class1 != 0]\n",
    "    class2 = class2[class2 != 0]\n",
    "    mean1 = np.mean(class1)\n",
    "    std1 = np.std(class1)\n",
    "    mean2 = np.mean(class2)\n",
    "    std2 = np.std(class2)\n",
    "    print(len(class1))\n",
    "    ax2.hist(class1,bins=100,label = \"{:.3f} +- {:.3f}\".format(mean1,std1),color = 'aqua')\n",
    "    ax2.hist(class2,bins=100,label = \"{:.3f} +- {:.3f}\".format(mean2,std2),color = 'magenta')\n",
    "    ax2.legend(prop={'size': 30})\n",
    "\n",
    "    plt.show()\n",
    "    \n",
    "    "
   ]
  },
  {
   "cell_type": "code",
   "execution_count": null,
   "id": "8683ff23",
   "metadata": {
    "scrolled": false
   },
   "outputs": [],
   "source": [
    "for p in files:\n",
    "    process(p)"
   ]
  },
  {
   "cell_type": "code",
   "execution_count": null,
   "id": "99ecfdef",
   "metadata": {},
   "outputs": [],
   "source": []
  }
 ],
 "metadata": {
  "kernelspec": {
   "display_name": "Python 3 (ipykernel)",
   "language": "python",
   "name": "python3"
  },
  "language_info": {
   "codemirror_mode": {
    "name": "ipython",
    "version": 3
   },
   "file_extension": ".py",
   "mimetype": "text/x-python",
   "name": "python",
   "nbconvert_exporter": "python",
   "pygments_lexer": "ipython3",
   "version": "3.8.5"
  }
 },
 "nbformat": 4,
 "nbformat_minor": 5
}
