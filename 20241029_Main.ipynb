{
 "cells": [
  {
   "cell_type": "code",
   "execution_count": 1,
   "id": "2e451652",
   "metadata": {},
   "outputs": [],
   "source": [
    "import pyabf\n",
    "import matplotlib.pyplot as plt\n",
    "import numpy as np\n",
    "from os import getcwd,listdir\n",
    "from util import findStable_Bias, cal_points_qty, print_points_qty, plot_wave, plot_colormap, capture, write_target"
   ]
  },
  {
   "cell_type": "markdown",
   "id": "47f9103d",
   "metadata": {},
   "source": [
    "# Start"
   ]
  },
  {
   "cell_type": "markdown",
   "id": "2179d7b5",
   "metadata": {},
   "source": [
    "##### V2: Include Bias\n",
    "* 800mV 22214004.abf: 3120 + 4(start) + 3(end) = 3127\n",
    "* 700mV 22214005.abf: 3120 + 6(start) = 3126\n",
    "* 200mV 22318006.abf: 3120 + 5(start) = 3125\n",
    "* 500mV 22304010.abf:\n",
    "* 200mV 22323007.abf: 3120 + \n",
    "* 200mV 22504024.abf: 3120 + 12(start) = 3132\n",
    "* 600mV 22519010.abf: 3120 + 3(start)= 3123 #Care for time: 36818519 36818524\n",
    "### V1: Not include Bias\n",
    "\n",
    "* 800mV 21n05000.abf: 3120 + 4(start) = 3124\n",
    "* 700mV 21n05001.abf: 3120 + 4(start) + 41(end) = 3165 \n",
    "* 600mV 21n05002.abf: 3120 + 4(start) = 3124\n",
    "* 500mV 21n05003.abf: 3120 + 6(start) + 21(end) = 3147\n",
    "* 400mV 21n05004.abf: Last point have only close, 3120+5(start)+1(end) = 3126\n",
    "* 300mV 21n05005.abf: 3120 + 4(start) + 39(end) = 3163\n",
    "* 600mV 21930014.abf: 3120 + 5(start)  = 3125\n",
    "* 800mV 21d04000.abf: 3120 + 6(start) + 30(end) =3156"
   ]
  },
  {
   "cell_type": "code",
   "execution_count": 2,
   "id": "bad340c2",
   "metadata": {},
   "outputs": [],
   "source": [
    "abf_file = [\"24903000.abf\",\"24903001.abf\"]"
   ]
  },
  {
   "cell_type": "code",
   "execution_count": 3,
   "id": "c022936f",
   "metadata": {},
   "outputs": [],
   "source": [
    "abf = [pyabf.ABF(\"abf\\\\\"+x) for x in abf_file]\n",
    "title_prefix = [x[:-4] for x in abf_file]\n",
    "fig_save_path =getcwd()+\"\\\\result\\\\\""
   ]
  },
  {
   "cell_type": "code",
   "execution_count": 4,
   "id": "9110ee8e",
   "metadata": {},
   "outputs": [],
   "source": [
    "bins = [50,50]\n",
    "# start_ignore and end_ignore: extra points before reshape into rows\n",
    "# start_extra and end_extra: extra points of each rows\n",
    "start_ignore = [2,2] #Don't include the single point\n",
    "end_ignore = [12,12]  #Don't include the single point\n",
    "start_extra = [5,5]\n",
    "end_extra = [0,0]\n",
    "first_row_repeat = [6,6]\n",
    "volt = [200,-200]\n",
    "Row = [100,100]\n",
    "Col = [100,100]\n",
    "start_single = [True,True]\n",
    "end_single = [False,False]\n",
    "emf_bias = [-300,-140]\n",
    "current_bias = [0,0]"
   ]
  },
  {
   "cell_type": "code",
   "execution_count": 5,
   "id": "741586f3",
   "metadata": {},
   "outputs": [],
   "source": [
    "ignore = [(x,y) for x,y in zip(start_ignore,end_ignore)]\n",
    "extra =  [(x,y) for x,y in zip(start_extra,end_extra)]\n",
    "dim = [(x-1,y) for x,y in zip(Row,Col)]\n",
    "single = [(x,y) for x,y in zip(start_single,end_single)]"
   ]
  },
  {
   "cell_type": "code",
   "execution_count": 6,
   "id": "661a5b7e",
   "metadata": {},
   "outputs": [
    {
     "name": "stdout",
     "output_type": "stream",
     "text": [
      "24903000.abf's total points should be 11009\n",
      "24903001.abf's total points should be 11009\n"
     ]
    }
   ],
   "source": [
    "for i in range(len(title_prefix)):\n",
    "    total = (Row[i]-1)*(Col[i]+start_extra[i]+end_extra[i])+end_ignore[i]+start_ignore[i]+Col[i]*first_row_repeat[i]\n",
    "    print(f\"{abf_file[i]}'s total points should be {total}\")"
   ]
  },
  {
   "cell_type": "code",
   "execution_count": null,
   "id": "dbd5ab82",
   "metadata": {},
   "outputs": [],
   "source": [
    "closes = []\n",
    "fars = []\n",
    "close_inds = []\n",
    "end_inds = []\n",
    "for i in range(len(abf)):\n",
    "    close,far,close_index,end_index = findStable_Bias(abf[i],volt[i],single=single[i])\n",
    "    closes.append(close)\n",
    "    fars.append(far)\n",
    "    close_inds.append(close_index)\n",
    "    end_inds.append(end_index)"
   ]
  },
  {
   "cell_type": "code",
   "execution_count": null,
   "id": "09c98892",
   "metadata": {},
   "outputs": [],
   "source": [
    "for i in range(len(abf_file)):\n",
    "    plt.figure()\n",
    "    plt.hist((closes[i],fars[i]),bins=bins[i],label = ('EMF close','EMF far'),color = ('red','blue'))\n",
    "    plt.legend()\n",
    "    plt.title(\"%s EMF mean histogram\"%(title_prefix[i]))\n",
    "    plt.savefig(fig_save_path+\"%s EMF mean histogram\"%(title_prefix[i]))\n",
    "    plt.show()"
   ]
  },
  {
   "cell_type": "code",
   "execution_count": null,
   "id": "d978853b",
   "metadata": {
    "scrolled": false
   },
   "outputs": [],
   "source": [
    "emf_divs = []\n",
    "vmins = []\n",
    "vmaxs = []\n",
    "for i in range(len(abf_file)):\n",
    "    target = closes[i]/fars[i]\n",
    "    target = capture(target, first_row_repeat[i], ignore[i], extra[i], dim[i])\n",
    "    mean = np.mean(target)\n",
    "    std = np.std(target)\n",
    "    print(f\"%lf ± %lf\" %(mean,std))\n",
    "    emf_divs.append(target)\n",
    "    vmins.append(target.min())\n",
    "    vmaxs.append(target.max())\n",
    "    \n",
    "vmin = min(vmins)\n",
    "vmax = max(vmaxs)\n",
    "for i in range(len(abf_file)):\n",
    "    figsize = (int(emf_divs[i].shape[0]/8), int(emf_divs[i].shape[1]/8))\n",
    "    title = title_prefix[i] + \" EMF close÷far\"\n",
    "    plot_colormap(emf_divs[i],title = title,path = fig_save_path, figsize = figsize,\n",
    "                  vmin = vmin, vmax = vmax)"
   ]
  },
  {
   "cell_type": "code",
   "execution_count": null,
   "id": "d6674382",
   "metadata": {
    "scrolled": false
   },
   "outputs": [],
   "source": [
    "emf_difs = []\n",
    "vmins = []\n",
    "vmaxs = []\n",
    "for i in range(len(abf_file)):\n",
    "    target = closes[i]-fars[i]\n",
    "    target = capture(target, first_row_repeat[i], ignore[i], extra[i], dim[i])\n",
    "    mean = np.mean(target)\n",
    "    std = np.std(target)\n",
    "    print(f\"%lf ± %lf\" %(mean,std))\n",
    "    emf_difs.append(target)\n",
    "    vmins.append(target.min())\n",
    "    vmaxs.append(target.max())\n",
    "    \n",
    "vmin = min(vmins)\n",
    "vmax = max(vmaxs)\n",
    "for i in range(len(abf_file)):\n",
    "    figsize = (int(emf_difs[i].shape[0]/8), int(emf_difs[i].shape[1]/8))\n",
    "    title = title_prefix[i] + \" EMF close-far\"\n",
    "    plot_colormap(emf_difs[i],title = title,path = fig_save_path, figsize = figsize,\n",
    "                  vmin = vmin, vmax = vmax)"
   ]
  },
  {
   "cell_type": "code",
   "execution_count": null,
   "id": "432a9afd",
   "metadata": {},
   "outputs": [],
   "source": [
    "# Calculate on Current\n",
    "I_closes = []\n",
    "I_fars = []\n",
    "I_close_inds = []\n",
    "I_end_inds = []\n",
    "for i in range(len(abf)):\n",
    "    close,far,close_index,end_index = findStable_Bias(abf[i],volt[i],single=single[i], channel = 0)\n",
    "    I_closes.append(close)\n",
    "    I_fars.append(far)\n",
    "    I_close_inds.append(close_index)\n",
    "    I_end_inds.append(end_index)"
   ]
  },
  {
   "cell_type": "code",
   "execution_count": null,
   "id": "1b2cc797",
   "metadata": {},
   "outputs": [],
   "source": [
    "for i in range(len(abf_file)):\n",
    "    plt.figure()\n",
    "    plt.hist((I_closes[i],I_fars[i]),bins=bins[i],label = ('Current close','Current far'),color = ('red','blue'))\n",
    "    plt.legend()\n",
    "    plt.title(\"%s Current mean histogram\"%(title_prefix[i]))\n",
    "    plt.savefig(fig_save_path+\"%s Current mean histogram\"%(title_prefix[i]))\n",
    "    plt.show()"
   ]
  },
  {
   "cell_type": "code",
   "execution_count": null,
   "id": "a91eaa87",
   "metadata": {
    "scrolled": false
   },
   "outputs": [],
   "source": [
    "cur_divs = []\n",
    "vmins = []\n",
    "vmaxs = []\n",
    "for i in range(len(abf_file)):\n",
    "    target = I_closes[i]/I_fars[i]\n",
    "    target = capture(target, first_row_repeat[i], ignore[i], extra[i], dim[i])\n",
    "    mean = np.mean(target)\n",
    "    std = np.std(target)\n",
    "    print(f\"%lf ± %lf\" %(mean,std))\n",
    "    cur_divs.append(target)\n",
    "    vmins.append(target.min())\n",
    "    vmaxs.append(target.max())\n",
    "    \n",
    "vmin = min(vmins)\n",
    "vmax = max(vmaxs)\n",
    "for i in range(len(abf_file)):\n",
    "    figsize = (int(cur_divs[i].shape[0]/8), int(cur_divs[i].shape[1]/8))\n",
    "    title = title_prefix[i] + \" Current close÷far\"\n",
    "    plot_colormap(cur_divs[i],title = title,path = fig_save_path, figsize = figsize,\n",
    "                  vmin = vmin, vmax = vmax)"
   ]
  },
  {
   "cell_type": "code",
   "execution_count": null,
   "id": "f8b80dba",
   "metadata": {
    "scrolled": false
   },
   "outputs": [],
   "source": [
    "cur_difs = []\n",
    "vmins = []\n",
    "vmaxs = []\n",
    "for i in range(len(abf_file)):\n",
    "    target = I_closes[i]-I_fars[i]\n",
    "    target = capture(target, first_row_repeat[i], ignore[i], extra[i], dim[i])\n",
    "    mean = np.mean(target)\n",
    "    std = np.std(target)\n",
    "    print(f\"%lf ± %lf\" %(mean,std))\n",
    "    cur_difs.append(target)\n",
    "    vmins.append(target.min())\n",
    "    vmaxs.append(target.max())\n",
    "    \n",
    "vmin = min(vmins)\n",
    "vmax = max(vmaxs)\n",
    "for i in range(len(abf_file)):\n",
    "    figsize = (int(cur_difs[i].shape[0]/8), int(cur_difs[i].shape[1]/8))\n",
    "    title = title_prefix[i] + \" Current close-far\"\n",
    "    plot_colormap(cur_difs[i],title = title,path = fig_save_path, figsize = figsize,\n",
    "                  vmin = vmin, vmax = vmax)"
   ]
  },
  {
   "cell_type": "code",
   "execution_count": null,
   "id": "fada41a6",
   "metadata": {},
   "outputs": [],
   "source": [
    "for i in range(len(abf_file)):\n",
    "    targets = [emf_divs[i], emf_difs[i], closes[i], fars[i], cur_divs[i], cur_difs[i], I_closes[i], I_fars[i]]\n",
    "    filenames = [\" EMF close÷far\",\" EMF close-far\", \"EMF close\", \"EMF far\",\n",
    "                 \" Current close÷far\",\" Current close-far\", \"Current close\", \"Current far\",]\n",
    "    filenames = [\"result\\\\\"+title_prefix[i]+x+\".xlsx\" for x in filenames]\n",
    "    for target, filename in zip(targets,filenames):\n",
    "        write_target(target,filename)"
   ]
  },
  {
   "cell_type": "markdown",
   "id": "7416983e",
   "metadata": {},
   "source": [
    "# Test"
   ]
  },
  {
   "cell_type": "markdown",
   "id": "2e908adb",
   "metadata": {},
   "source": [
    "## Test 01 -- With start time and end time"
   ]
  },
  {
   "cell_type": "code",
   "execution_count": null,
   "id": "268e7aa8",
   "metadata": {
    "scrolled": false
   },
   "outputs": [],
   "source": [
    "timeStart = 0\n",
    "timeEnd = 20000\n",
    "ind = 0\n",
    "plot_wave(abf[ind],volt[ind],timeStart = timeStart, timeEnd = timeEnd,channel=4)\n",
    "print(abf[ind].sweepY[timeStart:timeEnd])"
   ]
  },
  {
   "cell_type": "code",
   "execution_count": null,
   "id": "b58d3823",
   "metadata": {
    "scrolled": true
   },
   "outputs": [],
   "source": [
    "#Test\n",
    "abfFile = \"23428006.abf\"\n",
    "volt = 500\n",
    "abf = pyabf.ABF(\"..\\\\data\\\\0727\\\\23428006\\\\\"+abfFile)\n",
    "plot_v2(abf,volt,timeStart = 0,timeEnd = 4000,channel=2)\n",
    "plot_v2(abf,volt,timeStart = 0 ,timeEnd = 4000,channel=4)"
   ]
  },
  {
   "cell_type": "markdown",
   "id": "384e991e",
   "metadata": {},
   "source": [
    "## Test 02_v2 -- Check all graph"
   ]
  },
  {
   "cell_type": "code",
   "execution_count": null,
   "id": "da2c1417",
   "metadata": {
    "scrolled": true
   },
   "outputs": [],
   "source": [
    "interval = 200000\n",
    "abfFile = \"23428006.abf\"\n",
    "volt = 500\n",
    "abf = pyabf.ABF(\"..\\\\data\\\\0727\\\\23428006\\\\\"+abfFile)\n",
    "for i in range(0,len(abf.sweepY),interval):\n",
    "    print(\"Time: %d ~ %d\"%(i,i+interval+50))\n",
    "    timeStart = i\n",
    "    timeEnd = i+interval+50\n",
    "    close_qty,far_qty = plot_v2(abf,volt,timeStart = timeStart, timeEnd = timeEnd,channel = 4)"
   ]
  },
  {
   "cell_type": "markdown",
   "id": "d178fff2",
   "metadata": {},
   "source": [
    "## Test 03_v3--Check Total Points Collected in each (x,y)"
   ]
  },
  {
   "cell_type": "code",
   "execution_count": null,
   "id": "53527481",
   "metadata": {
    "scrolled": false
   },
   "outputs": [],
   "source": [
    "abfFile = \"23428006.abf\"\n",
    "volt = 500\n",
    "abf = pyabf.ABF(\"..\\\\data\\\\0727\\\\23428006\\\\\"+abfFile)\n",
    "mat = print_points_qty(abf,end_index)"
   ]
  }
 ],
 "metadata": {
  "kernelspec": {
   "display_name": "Python 3 (ipykernel)",
   "language": "python",
   "name": "python3"
  },
  "language_info": {
   "codemirror_mode": {
    "name": "ipython",
    "version": 3
   },
   "file_extension": ".py",
   "mimetype": "text/x-python",
   "name": "python",
   "nbconvert_exporter": "python",
   "pygments_lexer": "ipython3",
   "version": "3.7.16"
  }
 },
 "nbformat": 4,
 "nbformat_minor": 5
}
