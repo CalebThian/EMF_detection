{
 "cells": [
  {
   "cell_type": "code",
   "execution_count": 1,
   "id": "2e451652",
   "metadata": {},
   "outputs": [],
   "source": [
    "import pyabf\n",
    "import matplotlib.pyplot as plt\n",
    "import numpy as np\n",
    "from os import getcwd,listdir\n",
    "from util import findStable_Bias, cal_points_qty, print_points_qty, plot_wave, plot_colormap, capture, write_target, plot_wave, check_close_fair_pair, map_ind_coor,plot_wave_with_index"
   ]
  },
  {
   "cell_type": "markdown",
   "id": "47f9103d",
   "metadata": {},
   "source": [
    "# Start"
   ]
  },
  {
   "cell_type": "markdown",
   "id": "2179d7b5",
   "metadata": {},
   "source": [
    "參數記錄\n",
    "格式：[abf_file,bins,Row,Col,volt,emf_bias,current_bias,start_ignore,end_ignore,start_extra,end_extra,start_single,end_single,first_row_repeat]\n",
    "1. [24903000.abf,50,100,100,200,-300,0,2,12,5,0,True,False,6]\n",
    "2. [24903001.abf,50,100,100,-200,-140,0,2,13,5,0,True,False,6]\n",
    "3. [24o24001.abf,50,40,40,130,0,0,4,10,5,0,False,True.6]"
   ]
  },
  {
   "cell_type": "code",
   "execution_count": 2,
   "id": "bad340c2",
   "metadata": {},
   "outputs": [],
   "source": [
    "abf_file = [\"24n21001.abf\"]"
   ]
  },
  {
   "cell_type": "code",
   "execution_count": 3,
   "id": "c022936f",
   "metadata": {},
   "outputs": [],
   "source": [
    "abf = [pyabf.ABF(\"abf\\\\\"+x) for x in abf_file]\n",
    "title_prefix = [x[:-4] for x in abf_file]\n",
    "fig_save_path =getcwd()+\"\\\\result\\\\\""
   ]
  },
  {
   "cell_type": "code",
   "execution_count": 4,
   "id": "9110ee8e",
   "metadata": {},
   "outputs": [],
   "source": [
    "bins = [50]\n",
    "Row = [80]\n",
    "Col = [80]\n",
    "\n",
    "volt = [200]\n",
    "emf_bias = [0]\n",
    "current_bias = [0]\n",
    "\n",
    "# start_ignore and end_ignore: extra points before reshape into rows\n",
    "# start_extra and end_extra: extra points of each rows\n",
    "start_ignore = [3] #Don't include the single point\n",
    "end_ignore = [11]  #Don't include the single point\n",
    "start_extra = [5]\n",
    "end_extra = [0]\n",
    "start_single = [True]\n",
    "end_single = [True]\n",
    "first_row_repeat = [6]\n",
    "auto_fill = [True]"
   ]
  },
  {
   "cell_type": "code",
   "execution_count": 5,
   "id": "741586f3",
   "metadata": {},
   "outputs": [],
   "source": [
    "ignore = [(x,y) for x,y in zip(start_ignore,end_ignore)]\n",
    "extra =  [(x,y) for x,y in zip(start_extra,end_extra)]\n",
    "dim = [(x-1,y) for x,y in zip(Row,Col)]\n",
    "single = [(x,y) for x,y in zip(start_single,end_single)]"
   ]
  },
  {
   "cell_type": "code",
   "execution_count": 6,
   "id": "661a5b7e",
   "metadata": {},
   "outputs": [
    {
     "name": "stdout",
     "output_type": "stream",
     "text": [
      "24n21001.abf's total points should be 7209\n"
     ]
    }
   ],
   "source": [
    "for i in range(len(title_prefix)):\n",
    "    total = (Row[i]-1)*(Col[i]+start_extra[i]+end_extra[i])+end_ignore[i]+start_ignore[i]+Col[i]*first_row_repeat[i]\n",
    "    print(f\"{abf_file[i]}'s total points should be {total}\")"
   ]
  },
  {
   "cell_type": "code",
   "execution_count": 7,
   "id": "dbd5ab82",
   "metadata": {},
   "outputs": [
    {
     "ename": "TypeError",
     "evalue": "'tuple' object does not support item assignment",
     "output_type": "error",
     "traceback": [
      "\u001b[1;31m---------------------------------------------------------------------------\u001b[0m",
      "\u001b[1;31mTypeError\u001b[0m                                 Traceback (most recent call last)",
      "Cell \u001b[1;32mIn[7], line 7\u001b[0m\n\u001b[0;32m      5\u001b[0m err_inds \u001b[38;5;241m=\u001b[39m []\n\u001b[0;32m      6\u001b[0m \u001b[38;5;28;01mfor\u001b[39;00m i \u001b[38;5;129;01min\u001b[39;00m \u001b[38;5;28mrange\u001b[39m(\u001b[38;5;28mlen\u001b[39m(abf)):\n\u001b[1;32m----> 7\u001b[0m     close,far,close_index,far_index,err_index \u001b[38;5;241m=\u001b[39m findStable_Bias(abf[i],volt[i],single\u001b[38;5;241m=\u001b[39msingle[i],auto_fill \u001b[38;5;241m=\u001b[39m auto_fill[i])\n\u001b[0;32m      8\u001b[0m     closes\u001b[38;5;241m.\u001b[39mappend(close)\n\u001b[0;32m      9\u001b[0m     fars\u001b[38;5;241m.\u001b[39mappend(far)\n",
      "File \u001b[1;32mD:\\code\\政威\\EMF_detection\\util.py:104\u001b[0m, in \u001b[0;36mfindStable_Bias\u001b[1;34m(abf, volt, single, mean_range, timeStart, timeEnd, channel, auto_fill)\u001b[0m\n\u001b[0;32m    103\u001b[0m \u001b[38;5;28;01mdef\u001b[39;00m \u001b[38;5;21mfindStable_Bias\u001b[39m(abf,volt,single,mean_range\u001b[38;5;241m=\u001b[39m\u001b[38;5;241m5\u001b[39m,timeStart \u001b[38;5;241m=\u001b[39m \u001b[38;5;241m0\u001b[39m, timeEnd \u001b[38;5;241m=\u001b[39m \u001b[38;5;28;01mNone\u001b[39;00m,channel \u001b[38;5;241m=\u001b[39m \u001b[38;5;241m2\u001b[39m, auto_fill \u001b[38;5;241m=\u001b[39m \u001b[38;5;28;01mFalse\u001b[39;00m):\n\u001b[1;32m--> 104\u001b[0m     index,close_index,far_index,err_index \u001b[38;5;241m=\u001b[39m analysis_Bias(abf,volt,single,timeStart \u001b[38;5;241m=\u001b[39m timeStart,timeEnd \u001b[38;5;241m=\u001b[39m timeEnd, auto_fill \u001b[38;5;241m=\u001b[39m auto_fill)\n\u001b[0;32m    106\u001b[0m     \u001b[38;5;66;03m# mean_range default set as 5 because 1ms = 5 data points\u001b[39;00m\n\u001b[0;32m    107\u001b[0m     abf\u001b[38;5;241m.\u001b[39msetSweep(\u001b[38;5;241m0\u001b[39m,channel\u001b[38;5;241m=\u001b[39mchannel)\n",
      "File \u001b[1;32mD:\\code\\政威\\EMF_detection\\util.py:52\u001b[0m, in \u001b[0;36manalysis_Bias\u001b[1;34m(abf, volt, single, timeStart, timeEnd, auto_fill)\u001b[0m\n\u001b[0;32m     50\u001b[0m \u001b[38;5;28;01mif\u001b[39;00m close_flag:\n\u001b[0;32m     51\u001b[0m     \u001b[38;5;28;01mif\u001b[39;00m single[\u001b[38;5;241m0\u001b[39m]:\n\u001b[1;32m---> 52\u001b[0m         single[\u001b[38;5;241m0\u001b[39m] \u001b[38;5;241m=\u001b[39m \u001b[38;5;28;01mFalse\u001b[39;00m\n\u001b[0;32m     53\u001b[0m         \u001b[38;5;28;01mcontinue\u001b[39;00m \u001b[38;5;66;03m#Ignore start single point\u001b[39;00m\n\u001b[0;32m     54\u001b[0m     close_index\u001b[38;5;241m.\u001b[39mappend(i)\n",
      "\u001b[1;31mTypeError\u001b[0m: 'tuple' object does not support item assignment"
     ]
    }
   ],
   "source": [
    "closes = []\n",
    "fars = []\n",
    "close_inds = []\n",
    "far_inds = []\n",
    "err_inds = []\n",
    "for i in range(len(abf)):\n",
    "    close,far,close_index,far_index,err_index = findStable_Bias(abf[i],volt[i],single=single[i],auto_fill = auto_fill[i])\n",
    "    closes.append(close)\n",
    "    fars.append(far)\n",
    "    close_inds.append(close_index)\n",
    "    far_inds.append(far_index)\n",
    "    err_inds.append(err_index)"
   ]
  },
  {
   "cell_type": "code",
   "execution_count": null,
   "id": "370181ab",
   "metadata": {},
   "outputs": [],
   "source": [
    "dif = np.array(far_index) - np.array(close_index)\n",
    "for i in range(20):\n",
    "    print(close_index[i],far_index[i],dif[i],np.mean(dif[:i]))"
   ]
  },
  {
   "cell_type": "code",
   "execution_count": null,
   "id": "a7189d6a",
   "metadata": {},
   "outputs": [],
   "source": [
    "# Show missing close-far pairs\n",
    "for i in range(len(abf)):\n",
    "    if len(err_inds[i]) == 0:\n",
    "        print(f\"{abf_file[i]} does not have any missing close/far point.\")\n",
    "    else:\n",
    "        print(f\"{abf_file[i]} has missing close/far point(s).\")\n",
    "        for err in err_inds[i]:\n",
    "            print(f\"Error point index:{err}\")\n",
    "            map_ind_coor(err, Row[i], Col[i], ignore[i], extra[i], first_row_repeat[i])\n",
    "            timeStart = close_inds[i][err]-40000\n",
    "            timeEnd = far_inds[i][err]+40000\n",
    "            plot_wave_with_index(abf[i],close_inds[i],far_inds[i],timeStart = timeStart, timeEnd = timeEnd,channel=2)\n",
    "            plot_wave_with_index(abf[i],close_inds[i],far_inds[i],timeStart = timeStart, timeEnd = timeEnd,channel=4)"
   ]
  },
  {
   "cell_type": "code",
   "execution_count": null,
   "id": "09c98892",
   "metadata": {},
   "outputs": [],
   "source": [
    "for i in range(len(abf_file)):\n",
    "    plt.figure()\n",
    "    plt.hist((closes[i],fars[i]),bins=bins[i],label = ('EMF close','EMF far'),color = ('red','blue'))\n",
    "    plt.legend()\n",
    "    plt.title(\"%s EMF mean histogram\"%(title_prefix[i]))\n",
    "    plt.savefig(fig_save_path+\"%s EMF mean histogram\"%(title_prefix[i]))\n",
    "    plt.show()"
   ]
  },
  {
   "cell_type": "code",
   "execution_count": null,
   "id": "d978853b",
   "metadata": {
    "scrolled": false
   },
   "outputs": [],
   "source": [
    "emf_divs = []\n",
    "vmins = []\n",
    "vmaxs = []\n",
    "for i in range(len(abf_file)):\n",
    "    target = closes[i]/fars[i]\n",
    "    target = capture(target, first_row_repeat[i], ignore[i], extra[i], dim[i])\n",
    "    mean = np.mean(target)\n",
    "    std = np.std(target)\n",
    "    print(f\"%lf ± %lf\" %(mean,std))\n",
    "    emf_divs.append(target)\n",
    "    vmins.append(target.min())\n",
    "    vmaxs.append(target.max())\n",
    "    \n",
    "vmin = max(vmins)\n",
    "vmax = min(vmaxs)\n",
    "for i in range(len(abf_file)):\n",
    "    figsize = (int(emf_divs[i].shape[0]/8), int(emf_divs[i].shape[1]/8))\n",
    "    title = title_prefix[i] + \" EMF close÷far\"\n",
    "    plot_colormap(emf_divs[i],title = title,path = fig_save_path, figsize = figsize,\n",
    "                  vmin = vmin, vmax = vmax)"
   ]
  },
  {
   "cell_type": "code",
   "execution_count": null,
   "id": "d6674382",
   "metadata": {
    "scrolled": false
   },
   "outputs": [],
   "source": [
    "emf_difs = []\n",
    "vmins = []\n",
    "vmaxs = []\n",
    "for i in range(len(abf_file)):\n",
    "    target = closes[i]-fars[i]\n",
    "    target = capture(target, first_row_repeat[i], ignore[i], extra[i], dim[i])\n",
    "    mean = np.mean(target)\n",
    "    std = np.std(target)\n",
    "    print(f\"%lf ± %lf\" %(mean,std))\n",
    "    emf_difs.append(target)\n",
    "    vmins.append(target.min())\n",
    "    vmaxs.append(target.max())\n",
    "    \n",
    "vmin = max(vmins)\n",
    "vmax = min(vmaxs)\n",
    "for i in range(len(abf_file)):\n",
    "    figsize = (int(emf_difs[i].shape[0]/8), int(emf_difs[i].shape[1]/8))\n",
    "    title = title_prefix[i] + \" EMF close-far\"\n",
    "    plot_colormap(emf_difs[i],title = title,path = fig_save_path, figsize = figsize,\n",
    "                  vmin = vmin, vmax = vmax)"
   ]
  },
  {
   "cell_type": "code",
   "execution_count": null,
   "id": "432a9afd",
   "metadata": {},
   "outputs": [],
   "source": [
    "# Calculate on Current\n",
    "I_closes = []\n",
    "I_fars = []\n",
    "I_close_inds = []\n",
    "I_far_inds = []\n",
    "for i in range(len(abf)):\n",
    "    close,far,close_index,far_index,err_index = findStable_Bias(abf[i],volt[i],single=single[i], channel = 0,auto_fill = auto_fill[i])\n",
    "    I_closes.append(close)\n",
    "    I_fars.append(far)\n",
    "    I_close_inds.append(close_index)\n",
    "    I_far_inds.append(far_index)"
   ]
  },
  {
   "cell_type": "code",
   "execution_count": null,
   "id": "1b2cc797",
   "metadata": {},
   "outputs": [],
   "source": [
    "for i in range(len(abf_file)):\n",
    "    plt.figure()\n",
    "    plt.hist((I_closes[i],I_fars[i]),bins=bins[i],label = ('Current close','Current far'),color = ('red','blue'))\n",
    "    plt.legend()\n",
    "    plt.title(\"%s Current mean histogram\"%(title_prefix[i]))\n",
    "    plt.savefig(fig_save_path+\"%s Current mean histogram\"%(title_prefix[i]))\n",
    "    plt.show()"
   ]
  },
  {
   "cell_type": "code",
   "execution_count": null,
   "id": "a91eaa87",
   "metadata": {
    "scrolled": false
   },
   "outputs": [],
   "source": [
    "cur_divs = []\n",
    "vmins = []\n",
    "vmaxs = []\n",
    "for i in range(len(abf_file)):\n",
    "    target = I_closes[i]/I_fars[i]\n",
    "    target = capture(target, first_row_repeat[i], ignore[i], extra[i], dim[i])\n",
    "    mean = np.mean(target)\n",
    "    std = np.std(target)\n",
    "    print(f\"%lf ± %lf\" %(mean,std))\n",
    "    cur_divs.append(target)\n",
    "    vmins.append(target.min())\n",
    "    vmaxs.append(target.max())\n",
    "    \n",
    "vmin = max(vmins)\n",
    "vmax = min(vmaxs)\n",
    "for i in range(len(abf_file)):\n",
    "    figsize = (int(cur_divs[i].shape[0]/8), int(cur_divs[i].shape[1]/8))\n",
    "    title = title_prefix[i] + \" Current close÷far\"\n",
    "    plot_colormap(cur_divs[i],title = title,path = fig_save_path, figsize = figsize,\n",
    "                  vmin = vmin, vmax = vmax)"
   ]
  },
  {
   "cell_type": "code",
   "execution_count": null,
   "id": "f8b80dba",
   "metadata": {
    "scrolled": false
   },
   "outputs": [],
   "source": [
    "cur_difs = []\n",
    "vmins = []\n",
    "vmaxs = []\n",
    "for i in range(len(abf_file)):\n",
    "    target = I_closes[i]-I_fars[i]\n",
    "    target = capture(target, first_row_repeat[i], ignore[i], extra[i], dim[i])\n",
    "    mean = np.mean(target)\n",
    "    std = np.std(target)\n",
    "    print(f\"%lf ± %lf\" %(mean,std))\n",
    "    cur_difs.append(target)\n",
    "    vmins.append(target.min())\n",
    "    vmaxs.append(target.max())\n",
    "    \n",
    "vmin = max(vmins)\n",
    "vmax = min(vmaxs)\n",
    "for i in range(len(abf_file)):\n",
    "    figsize = (int(cur_difs[i].shape[0]/8), int(cur_difs[i].shape[1]/8))\n",
    "    title = title_prefix[i] + \" Current close-far\"\n",
    "    plot_colormap(cur_difs[i],title = title,path = fig_save_path, figsize = figsize,\n",
    "                  vmin = vmin, vmax = vmax)"
   ]
  },
  {
   "cell_type": "code",
   "execution_count": null,
   "id": "0e25d3c5",
   "metadata": {},
   "outputs": [],
   "source": [
    "emf = []\n",
    "cur = []\n",
    "for i in range(len(abf_file)):\n",
    "    emf.append(np.vstack((closes[i].flatten(),fars[i].flatten())))\n",
    "    emf[i] = emf[i].reshape((emf[i].shape[1],emf[i].shape[0]))\n",
    "    cur.append(np.vstack((I_closes[i].flatten(),I_fars[i].flatten())))\n",
    "    cur[i] = cur[i].reshape((cur[i].shape[1],cur[i].shape[0]))"
   ]
  },
  {
   "cell_type": "code",
   "execution_count": null,
   "id": "1e3d4e25",
   "metadata": {},
   "outputs": [],
   "source": [
    "closes_2d = []\n",
    "fars_2d = []\n",
    "I_closes_2d = []\n",
    "I_fars_2d = []\n",
    "for i in range(len(abf_file)):\n",
    "    closes_2d.append(capture(closes[i], first_row_repeat[i], ignore[i], extra[i], dim[i]))\n",
    "    fars_2d.append(capture(fars[i], first_row_repeat[i], ignore[i], extra[i], dim[i]))\n",
    "    I_closes_2d.append(capture(I_closes[i], first_row_repeat[i], ignore[i], extra[i], dim[i]))\n",
    "    I_fars_2d.append(capture(I_fars[i], first_row_repeat[i], ignore[i], extra[i], dim[i]))"
   ]
  },
  {
   "cell_type": "code",
   "execution_count": null,
   "id": "fada41a6",
   "metadata": {},
   "outputs": [],
   "source": [
    "import pandas as pd\n",
    "import csv\n",
    "for i in range(len(abf_file)):\n",
    "    targets = [emf_divs[i], emf_difs[i], closes_2d[i], fars_2d[i], cur_divs[i], cur_difs[i], I_closes[i], I_fars[i], emf[i], cur[i]]\n",
    "    filenames = [\" EMF close÷far\",\" EMF close-far\", \"EMF close\", \"EMF far\",\n",
    "                 \" Current close÷far\",\" Current close-far\", \" Current close\", \" Current far\", \" EMF\", \" Current\"]\n",
    "    filenames = [title_prefix[i]+x+\" \" for x in filenames]\n",
    "    for target, filename in zip(targets,filenames):\n",
    "        write_target(target,filename)"
   ]
  },
  {
   "cell_type": "markdown",
   "id": "7416983e",
   "metadata": {},
   "source": [
    "# Test"
   ]
  },
  {
   "cell_type": "markdown",
   "id": "2e908adb",
   "metadata": {},
   "source": [
    "## Test 01 -- With start time and end time"
   ]
  },
  {
   "cell_type": "code",
   "execution_count": null,
   "id": "268e7aa8",
   "metadata": {
    "scrolled": false
   },
   "outputs": [],
   "source": [
    "timeStart = 0\n",
    "timeEnd = 300000\n",
    "ind = 0\n",
    "consider_single = False\n",
    "\n",
    "if consider_single:\n",
    "    s = single[ind]\n",
    "else:\n",
    "    s = (False,False)\n",
    "\n",
    "plot_wave(abf[ind],volt[ind],single = s,timeStart = timeStart, timeEnd = timeEnd,channel=4)\n",
    "print(abf[ind].sweepY[timeStart:timeEnd])"
   ]
  },
  {
   "cell_type": "markdown",
   "id": "384e991e",
   "metadata": {},
   "source": [
    "## Test 02_v2 -- Check all graph"
   ]
  },
  {
   "cell_type": "code",
   "execution_count": null,
   "id": "da2c1417",
   "metadata": {
    "scrolled": true
   },
   "outputs": [],
   "source": [
    "interval = 200000\n",
    "ind = 0\n",
    "consider_single = False\n",
    "\n",
    "if consider_single:\n",
    "    s = single[ind]\n",
    "else:\n",
    "    s = (False,False)\n",
    "    \n",
    "for i in range(0,len(abf[ind].sweepY),interval):\n",
    "    print(\"Time: %d ~ %d\"%(i,i+interval+50))\n",
    "    timeStart = i\n",
    "    timeEnd = i+interval+50\n",
    "    close_qty,far_qty = plot_wave(abf[ind],volt[ind],single = s,timeStart = timeStart, timeEnd = timeEnd,channel = 4)"
   ]
  },
  {
   "cell_type": "markdown",
   "id": "d178fff2",
   "metadata": {},
   "source": [
    "## Test 03_v3--Check Total Points Collected in each (x,y)"
   ]
  },
  {
   "cell_type": "code",
   "execution_count": null,
   "id": "53527481",
   "metadata": {
    "scrolled": false
   },
   "outputs": [],
   "source": [
    "ind = 0\n",
    "\n",
    "mat = print_points_qty(abf[ind],index = far_inds[ind])"
   ]
  },
  {
   "cell_type": "markdown",
   "id": "8f2cda86",
   "metadata": {},
   "source": [
    "# Test 04: Check close far pairs"
   ]
  },
  {
   "cell_type": "code",
   "execution_count": null,
   "id": "4474f265",
   "metadata": {},
   "outputs": [],
   "source": [
    "ind = 0\n",
    "check_close_fair_pair(close_inds[ind],far_inds[ind], Row[ind], Col[ind], ignore[ind], extra[ind], first_row_repeat[ind], volt[ind], abf[ind])"
   ]
  }
 ],
 "metadata": {
  "kernelspec": {
   "display_name": "Python 3 (ipykernel)",
   "language": "python",
   "name": "python3"
  },
  "language_info": {
   "codemirror_mode": {
    "name": "ipython",
    "version": 3
   },
   "file_extension": ".py",
   "mimetype": "text/x-python",
   "name": "python",
   "nbconvert_exporter": "python",
   "pygments_lexer": "ipython3",
   "version": "3.11.5"
  }
 },
 "nbformat": 4,
 "nbformat_minor": 5
}
