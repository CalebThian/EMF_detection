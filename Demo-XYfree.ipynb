{
 "cells": [
  {
   "cell_type": "code",
   "execution_count": 91,
   "id": "2e451652",
   "metadata": {},
   "outputs": [],
   "source": [
    "import pyabf\n",
    "import matplotlib.pyplot as plt\n",
    "import numpy as np\n",
    "from matplotlib import cm\n",
    "from matplotlib.colors import ListedColormap, LinearSegmentedColormap\n",
    "from os import getcwd,listdir\n",
    "import csv"
   ]
  },
  {
   "cell_type": "markdown",
   "id": "f3b8dc36",
   "metadata": {},
   "source": [
    "# List all file"
   ]
  },
  {
   "cell_type": "code",
   "execution_count": 3,
   "id": "426ec72b",
   "metadata": {},
   "outputs": [
    {
     "name": "stdout",
     "output_type": "stream",
     "text": [
      "['21930014.abf', '21d04000.abf', '21d04000.zip', '21n05000.abf', '21n05001.abf', '21n05002.abf', '21n05003.abf', '21n05004.abf', '21n05005.abf', '22214004.abf', '22214005.abf']\n",
      "['22214004.abf', '22214005.abf']\n"
     ]
    }
   ],
   "source": [
    "files = listdir(\"abf\")\n",
    "Files = []\n",
    "for f in files:\n",
    "    if f[:2] == '22':\n",
    "        Files.append(f)\n",
    "print(files)\n",
    "print(Files)"
   ]
  },
  {
   "cell_type": "markdown",
   "id": "28de079e",
   "metadata": {},
   "source": [
    "# Stable"
   ]
  },
  {
   "cell_type": "code",
   "execution_count": 92,
   "id": "b8cc6c82",
   "metadata": {},
   "outputs": [],
   "source": [
    "class Stable:\n",
    "    def __init__(self,timeStart,timeEnd,pqty,flag,X,Y,current):\n",
    "        self.timeStart = timeStart #開始判斷穩定區域的時間\n",
    "        self.timeEnd = timeEnd #穩定區域結束的時間\n",
    "        self.qty = timeEnd - timeStart #穩定區域大小\n",
    "        self.pqty = pqty #采值取用點數數量\n",
    "        self.close = flag #True: close; False: far\n",
    "        self.Y = np.array(Y[timeStart:timeEnd]) #穩定區域的EMF值\n",
    "        self.X = np.array(X[timeStart:timeEnd]) #穩定區域的秒數\n",
    "        self.current = np.array(current[timeStart:timeEnd]) #穩定區域的current\n",
    "        self.EMF = self.Y[-pqty:] #EMF計算區域\n",
    "        self.I = self.current[-pqty:] #current 計算區域\n",
    "        self.mEMF = np.mean(self.EMF)\n",
    "        self.mI = np.mean(self.I)"
   ]
  },
  {
   "cell_type": "markdown",
   "id": "e17caf72",
   "metadata": {},
   "source": [
    "# Function"
   ]
  },
  {
   "cell_type": "markdown",
   "id": "6c5a69c3",
   "metadata": {},
   "source": [
    "## Version 1"
   ]
  },
  {
   "cell_type": "code",
   "execution_count": 93,
   "id": "b3099738",
   "metadata": {},
   "outputs": [],
   "source": [
    "def plot(timeStart = 0, timeEnd = None):\n",
    "    plt.figure(figsize = (18,5))\n",
    "    if timeEnd == None:\n",
    "        plt.plot(abf.sweepX[timeStart:], abf.sweepY[timeStart:])\n",
    "    else:\n",
    "        plt.plot(abf.sweepX[timeStart:timeEnd], abf.sweepY[timeStart:timeEnd])\n",
    "    plt.ylabel(abf.sweepLabelY)\n",
    "    plt.xlabel(abf.sweepLabelX)\n",
    "    plt.legend()\n",
    "    plt.show()"
   ]
  },
  {
   "cell_type": "code",
   "execution_count": 94,
   "id": "35aec0c5",
   "metadata": {},
   "outputs": [],
   "source": [
    "def correction(Y,start,end,gap=0.1,p_flag = False):\n",
    "    y = Y[start:end]\n",
    "    y = y[::-1]\n",
    "    extra = 0\n",
    "    if p_flag:\n",
    "        plt.figure()\n",
    "        plt.plot(y)\n",
    "        plt.show()\n",
    "    for i in range(len(y)):\n",
    "        mean = np.mean(Y[start:end-extra])\n",
    "        if y[i]-y[i+1]<0.0:# or mean-y[i]>gap\n",
    "            if p_flag:\n",
    "                print(\"y[i]-y[i+1]: %lf - %lf = %lf\"%(y[i],y[i+1],y[i]-y[i+1]))\n",
    "                #print(\"mean-y[i]:%lf - %lf = %lf\"%(mean,y[i],mean-y[i]))\n",
    "            extra = extra + 1\n",
    "        else:\n",
    "            break\n",
    "    if p_flag:\n",
    "        plt.figure()\n",
    "        plt.plot(y[extra:])\n",
    "        plt.show()\n",
    "        print(\"Extra = \"+str(extra))\n",
    "    return end-extra"
   ]
  },
  {
   "cell_type": "code",
   "execution_count": 95,
   "id": "5f3f3d3d",
   "metadata": {},
   "outputs": [],
   "source": [
    "def findStable(X,Y,countGap = 5,gap=0.3,errorGap = 5,mean_range=10,p_flag = False,threshold = 10,offset = 0):\n",
    "    # Assume far and end come up one by one,start from far\n",
    "    circleX=[]\n",
    "    circleY=[]\n",
    "    count = 0\n",
    "    start = 0\n",
    "    stable = []\n",
    "    stable_close=[]\n",
    "    stable_far=[]\n",
    "    errorCount = 0\n",
    "    close_flag = True\n",
    "    \n",
    "    # Find Stable: Algorithm\n",
    "    for i in range(1,len(Y)):\n",
    "        if abs(Y[i]-Y[i-1])<gap and Y[i]>threshold:\n",
    "            count = count+1\n",
    "            errorCount = 0\n",
    "            if start == 0:\n",
    "                start = i\n",
    "        elif abs(Y[i]-Y[i-1])>gap:\n",
    "            errorCount = errorCount + 1\n",
    "            if errorCount <= errorGap:\n",
    "                continue\n",
    "            if count>=countGap:\n",
    "                end = i - errorCount - 1\n",
    "                if close_flag:\n",
    "                    end = correction(Y,start,end,gap = gap,p_flag = p_flag)-offset\n",
    "                    stable_close.append((start,end))\n",
    "                    close_flag = False\n",
    "                else:\n",
    "                    end = correction(Y,start,end,gap = 2,p_flag = p_flag)-offset\n",
    "                    stable_far.append((start,end))\n",
    "                    close_flag = True\n",
    "                stable.append((start,end))\n",
    "                center = end-int(mean_range/2)\n",
    "                circleX.append(X[center])\n",
    "                circleY.append(Y[center])    \n",
    "                \n",
    "            count = 0\n",
    "            start = 0\n",
    "            \n",
    "    # Calculate Average\n",
    "    result,intervalx,intervaly = calculateAvg(X,Y,stable,mean_range=mean_range,p_flag = p_flag)\n",
    "    result_close,_,_ = calculateAvg(X,Y,stable_close,mean_range=mean_range)\n",
    "    result_far,_,_ = calculateAvg(X,Y,stable_far,mean_range=mean_range)\n",
    "    \n",
    "    return circleX,circleY,result,result_close,result_far,stable,stable_close,stable_far,intervalx,intervaly"
   ]
  },
  {
   "cell_type": "code",
   "execution_count": 96,
   "id": "931d5ba6",
   "metadata": {},
   "outputs": [],
   "source": [
    "def logStable(X,Y,current,stable_close,stable_far,pqty):\n",
    "    close = []\n",
    "    far = []\n",
    "    for s in stable_close:\n",
    "        close.append(Stable(s[0],s[1],pqty,True,X,Y,current))\n",
    "    for s in stable_far:\n",
    "        far.append(Stable(s[0],s[1],pqty,False,X,Y,current))\n",
    "    return close,far"
   ]
  },
  {
   "cell_type": "code",
   "execution_count": 97,
   "id": "34a618c3",
   "metadata": {},
   "outputs": [],
   "source": [
    "def calculateAvg(X,Y,stable,mean_range=10,p_flag = False):\n",
    "    npY = np.array(Y)\n",
    "    result = np.array([])\n",
    "    x = np.array([])\n",
    "    y = np.array([])\n",
    "    for s in stable:\n",
    "        Y_target = Y[s[1]-mean_range+1:s[1]+1]\n",
    "        mean = np.mean(Y_target)\n",
    "        result=np.append(result,mean)\n",
    "        \n",
    "        # Point out the interval\n",
    "        x = np.append(x,[X[s[1]-mean_range+1],X[s[1]]])\n",
    "        y = np.append(y,[Y[s[1]-mean_range+1],Y[s[1]]])\n",
    "        if p_flag:\n",
    "            print(\"Time Interval(s):%.4f-%.4f\"%(X[s[0]],X[s[1]]))\n",
    "            print(\"Last \"+str(mean_range)+\" point average(mV) = \"+str(mean))\n",
    "    \n",
    "    if p_flag:\n",
    "        plotDifference(X,Y,stable)\n",
    "    return result,x,y"
   ]
  },
  {
   "cell_type": "code",
   "execution_count": 98,
   "id": "ea67457d",
   "metadata": {},
   "outputs": [],
   "source": [
    "def plotStable(abf,X,Y,circleX,circleY,size,x,y):\n",
    "    plt.figure(figsize = (18,5))\n",
    "    plt.plot(X,Y)\n",
    "    plt.scatter(circleX,circleY,s=(size/4)**2,facecolors='none', edgecolors='g')\n",
    "    plt.scatter(x,y,s=(size/16)**2,facecolors='r', edgecolors='r')\n",
    "    plt.ylabel(abf.sweepLabelY)\n",
    "    plt.xlabel(abf.sweepLabelX)\n",
    "    plt.show()"
   ]
  },
  {
   "cell_type": "code",
   "execution_count": 99,
   "id": "b7f3fbcd",
   "metadata": {},
   "outputs": [],
   "source": [
    "def plotCurrent(abf,X,Y,stable,mean_range):\n",
    "    plt.figure(figsize = (18,5))\n",
    "    plt.plot(X,Y)\n",
    "    \n",
    "    _,x,y = calculateAvg(X,Y,stable,mean_range = mean_range)\n",
    "    plt.scatter(x,y,s=(mean_range/16)**2,facecolors='r', edgecolors='r')\n",
    "    plt.ylabel(abf.sweepLabelY)\n",
    "    plt.xlabel(abf.sweepLabelX)\n",
    "    plt.show()"
   ]
  },
  {
   "cell_type": "code",
   "execution_count": 100,
   "id": "95f70bab",
   "metadata": {},
   "outputs": [],
   "source": [
    "def plotUnstable(X,Y):\n",
    "    x = X[1:]\n",
    "    y = Y[1:]-Y[:-1]\n",
    "    plt.plot(y)\n",
    "    plt.show()"
   ]
  },
  {
   "cell_type": "code",
   "execution_count": 101,
   "id": "29170c2a",
   "metadata": {},
   "outputs": [],
   "source": [
    "# Separate AUT and Quartz\n",
    "def separate(arr,Row=25,Col=100,pqty = 40,start_ignore = 4,end_ignore = 0,start_extra = 5,end_extra = 0):\n",
    "    # start_ignore and end_ignore: extra points before reshape into rows\n",
    "    # start_extra and end_extra: extra points of each rows\n",
    "    # Convert end_ignore\n",
    "    if end_ignore == 0:\n",
    "        end_ignore = None\n",
    "    else:\n",
    "        end_ignore = -end_ignore\n",
    "        \n",
    "    # Convert end_extra\n",
    "    if end_extra == 0:\n",
    "        end_extra = None\n",
    "        end_num = 0\n",
    "    else:\n",
    "        end_extra = -end_extra\n",
    "        end_num = end_extra\n",
    "    \n",
    "    # Ignore first row\n",
    "    print(6*Col + start_ignore,end_ignore)\n",
    "    arr = arr[6*Col + start_ignore:end_ignore]\n",
    "    arr = np.reshape(arr,(Row-1,Col+start_extra-end_num))\n",
    "    aut = np.array([])\n",
    "    quartz = np.array([])\n",
    "    for row in arr:\n",
    "        aut = np.append(aut,row[start_extra:start_extra+pqty])\n",
    "        quartz = np.append(quartz,row[-pqty+end_num:end_extra])\n",
    "    return aut,quartz"
   ]
  },
  {
   "cell_type": "code",
   "execution_count": 102,
   "id": "62a157b7",
   "metadata": {},
   "outputs": [],
   "source": [
    "def plot_colormap(data,title = \"AUT and QUARTZ\",path = \"\"):\n",
    "    \"\"\"\n",
    "    Helper function to plot data with associated colormap.\n",
    "    \"\"\"\n",
    "   # fig, axs = plt.subplots(1, n, figsize=(n * 2 + 2, 3),\n",
    "    #                        constrained_layout=True, squeeze=False)\n",
    "    figure, axes = plt.subplots(figsize=(data.shape[1]/5,data.shape[0]/5))\n",
    "    psm = axes.pcolormesh(data, cmap='rainbow',rasterized=True)\n",
    "    figure.colorbar(psm, ax=axes)\n",
    "    axes.invert_yaxis()\n",
    "    plt.title(title)\n",
    "    plt.savefig(path+\" \"+title)\n",
    "    plt.show()"
   ]
  },
  {
   "cell_type": "code",
   "execution_count": 103,
   "id": "c2a32b0e",
   "metadata": {},
   "outputs": [],
   "source": [
    "def plotDifference(X,Y,stable):\n",
    "    x = []\n",
    "    y = []\n",
    "    for s in stable:\n",
    "        start = s[0]\n",
    "        end = s[1]\n",
    "        x = X[start:end]\n",
    "        y = Y[start:end]\n",
    "        dif = []\n",
    "        for i in range(1,len(y)):\n",
    "            differ = abs(y[i]-y[i-1])\n",
    "            dif.append(differ)\n",
    "        plt.figure()\n",
    "        density, bins, _ = plt.hist(dif, density=True, bins=20)\n",
    "        count, _ = np.histogram(dif, bins)\n",
    "        for x,y,num in zip(bins, density, count):\n",
    "            if num != 0:\n",
    "                plt.text(x, y+0.05, num, fontsize=10, rotation=-90) # x,y,st\n",
    "        plt.show()"
   ]
  },
  {
   "cell_type": "code",
   "execution_count": 104,
   "id": "baf7e746",
   "metadata": {},
   "outputs": [],
   "source": [
    "def readTxt(file):\n",
    "    with open(file,\"r\") as myfile:\n",
    "        for i in range(3):\n",
    "            data = myfile.readline()\n",
    "            \n",
    "        data = myfile.readline().split()\n",
    "        EMF = []\n",
    "        while(len(data) != 0):\n",
    "            EMF.append(float(data[2]))\n",
    "            data = myfile.readline().split()\n",
    "    return EMF"
   ]
  },
  {
   "cell_type": "markdown",
   "id": "7416983e",
   "metadata": {},
   "source": [
    "# Test"
   ]
  },
  {
   "cell_type": "markdown",
   "id": "5b426dd2",
   "metadata": {},
   "source": [
    "## Test 01-- With start time and end time"
   ]
  },
  {
   "cell_type": "code",
   "execution_count": 105,
   "id": "2c12f0a6",
   "metadata": {
    "scrolled": false
   },
   "outputs": [
    {
     "ename": "NameError",
     "evalue": "name 'countGap' is not defined",
     "output_type": "error",
     "traceback": [
      "\u001b[1;31m---------------------------------------------------------------------------\u001b[0m",
      "\u001b[1;31mNameError\u001b[0m                                 Traceback (most recent call last)",
      "\u001b[1;32m~\\AppData\\Local\\Temp/ipykernel_10748/2418847263.py\u001b[0m in \u001b[0;36m<module>\u001b[1;34m\u001b[0m\n\u001b[0;32m      7\u001b[0m \u001b[0mp_flag\u001b[0m \u001b[1;33m=\u001b[0m \u001b[1;32mFalse\u001b[0m\u001b[1;33m\u001b[0m\u001b[1;33m\u001b[0m\u001b[0m\n\u001b[0;32m      8\u001b[0m \u001b[1;33m\u001b[0m\u001b[0m\n\u001b[1;32m----> 9\u001b[1;33m \u001b[0mcirX\u001b[0m\u001b[1;33m,\u001b[0m\u001b[0mcirY\u001b[0m\u001b[1;33m,\u001b[0m\u001b[0mresult\u001b[0m\u001b[1;33m,\u001b[0m\u001b[0mclose\u001b[0m\u001b[1;33m,\u001b[0m\u001b[0mfar\u001b[0m\u001b[1;33m,\u001b[0m\u001b[0m_\u001b[0m\u001b[1;33m,\u001b[0m\u001b[0m_\u001b[0m\u001b[1;33m,\u001b[0m\u001b[0m_\u001b[0m\u001b[1;33m,\u001b[0m\u001b[0mx\u001b[0m\u001b[1;33m,\u001b[0m\u001b[0my\u001b[0m \u001b[1;33m=\u001b[0m \u001b[0mfindStable\u001b[0m\u001b[1;33m(\u001b[0m\u001b[0mX\u001b[0m\u001b[1;33m,\u001b[0m\u001b[0mY\u001b[0m\u001b[1;33m,\u001b[0m\u001b[0mcountGap\u001b[0m \u001b[1;33m=\u001b[0m \u001b[0mcountGap\u001b[0m\u001b[1;33m,\u001b[0m\u001b[0mgap\u001b[0m \u001b[1;33m=\u001b[0m \u001b[0mgap\u001b[0m\u001b[1;33m,\u001b[0m\u001b[0merrorGap\u001b[0m \u001b[1;33m=\u001b[0m \u001b[0merrorGap\u001b[0m\u001b[1;33m,\u001b[0m\u001b[0mmean_range\u001b[0m \u001b[1;33m=\u001b[0m \u001b[0mmean_range\u001b[0m\u001b[1;33m,\u001b[0m\u001b[0mp_flag\u001b[0m \u001b[1;33m=\u001b[0m \u001b[0mp_flag\u001b[0m\u001b[1;33m,\u001b[0m\u001b[0moffset\u001b[0m \u001b[1;33m=\u001b[0m \u001b[0moffset\u001b[0m\u001b[1;33m)\u001b[0m\u001b[1;33m\u001b[0m\u001b[1;33m\u001b[0m\u001b[0m\n\u001b[0m\u001b[0;32m     10\u001b[0m \u001b[0mplotStable\u001b[0m\u001b[1;33m(\u001b[0m\u001b[0mabf\u001b[0m\u001b[1;33m,\u001b[0m\u001b[0mX\u001b[0m\u001b[1;33m,\u001b[0m\u001b[0mY\u001b[0m\u001b[1;33m,\u001b[0m\u001b[0mcirX\u001b[0m\u001b[1;33m,\u001b[0m\u001b[0mcirY\u001b[0m\u001b[1;33m,\u001b[0m\u001b[0mcountGap\u001b[0m\u001b[1;33m,\u001b[0m\u001b[0mx\u001b[0m\u001b[1;33m,\u001b[0m\u001b[0my\u001b[0m\u001b[1;33m)\u001b[0m\u001b[1;33m\u001b[0m\u001b[1;33m\u001b[0m\u001b[0m\n\u001b[0;32m     11\u001b[0m \u001b[1;33m\u001b[0m\u001b[0m\n",
      "\u001b[1;31mNameError\u001b[0m: name 'countGap' is not defined"
     ]
    }
   ],
   "source": [
    "abf.setSweep(0,channel = 2)\n",
    "# 3125 - 6*100 -5 = 2520\n",
    "timeStart = 19000#stable_close[2520+10+80][0]\n",
    "timeEnd = 20000#stable_far[2520+10+80][1]+100\n",
    "X = abf.sweepX[timeStart:timeEnd]\n",
    "Y = abf.sweepY[timeStart:timeEnd]\n",
    "p_flag = False\n",
    "\n",
    "cirX,cirY,result,close,far,_,_,_,x,y = findStable(X,Y,countGap = countGap,gap = gap,errorGap = errorGap,mean_range = mean_range,p_flag = p_flag,offset = offset)\n",
    "plotStable(abf,X,Y,cirX,cirY,countGap,x,y)\n",
    "\n",
    "#Plot current\n",
    "abf.setSweep(0,channel=0)\n",
    "plot(timeStart = timeStart,timeEnd = timeEnd)"
   ]
  },
  {
   "cell_type": "markdown",
   "id": "ee1e3f5c",
   "metadata": {},
   "source": [
    "# Test 02 -- Check all graph"
   ]
  },
  {
   "cell_type": "code",
   "execution_count": 89,
   "id": "8c6bb61a",
   "metadata": {
    "scrolled": true
   },
   "outputs": [
    {
     "name": "stdout",
     "output_type": "stream",
     "text": [
      "0 10050\n"
     ]
    },
    {
     "ename": "NameError",
     "evalue": "name 'findStable' is not defined",
     "output_type": "error",
     "traceback": [
      "\u001b[1;31m---------------------------------------------------------------------------\u001b[0m",
      "\u001b[1;31mNameError\u001b[0m                                 Traceback (most recent call last)",
      "\u001b[1;32m~\\AppData\\Local\\Temp/ipykernel_10748/939070074.py\u001b[0m in \u001b[0;36m<module>\u001b[1;34m\u001b[0m\n\u001b[0;32m     10\u001b[0m     \u001b[0mX\u001b[0m \u001b[1;33m=\u001b[0m \u001b[0mabf\u001b[0m\u001b[1;33m.\u001b[0m\u001b[0msweepX\u001b[0m\u001b[1;33m[\u001b[0m\u001b[0mi\u001b[0m\u001b[1;33m:\u001b[0m\u001b[0mi\u001b[0m\u001b[1;33m+\u001b[0m\u001b[0minterval\u001b[0m\u001b[1;33m+\u001b[0m\u001b[1;36m50\u001b[0m\u001b[1;33m]\u001b[0m\u001b[1;33m\u001b[0m\u001b[1;33m\u001b[0m\u001b[0m\n\u001b[0;32m     11\u001b[0m     \u001b[0mY\u001b[0m \u001b[1;33m=\u001b[0m \u001b[0mabf\u001b[0m\u001b[1;33m.\u001b[0m\u001b[0msweepY\u001b[0m\u001b[1;33m[\u001b[0m\u001b[0mi\u001b[0m\u001b[1;33m:\u001b[0m\u001b[0mi\u001b[0m\u001b[1;33m+\u001b[0m\u001b[0minterval\u001b[0m\u001b[1;33m+\u001b[0m\u001b[1;36m50\u001b[0m\u001b[1;33m]\u001b[0m\u001b[1;33m\u001b[0m\u001b[1;33m\u001b[0m\u001b[0m\n\u001b[1;32m---> 12\u001b[1;33m     \u001b[0mcirX\u001b[0m\u001b[1;33m,\u001b[0m\u001b[0mcirY\u001b[0m\u001b[1;33m,\u001b[0m\u001b[0mresult\u001b[0m\u001b[1;33m,\u001b[0m\u001b[0mfar\u001b[0m\u001b[1;33m,\u001b[0m\u001b[0mend\u001b[0m\u001b[1;33m,\u001b[0m\u001b[0mstable\u001b[0m\u001b[1;33m,\u001b[0m\u001b[0m_\u001b[0m\u001b[1;33m,\u001b[0m\u001b[0m_\u001b[0m\u001b[1;33m,\u001b[0m\u001b[0mx\u001b[0m\u001b[1;33m,\u001b[0m\u001b[0my\u001b[0m  \u001b[1;33m=\u001b[0m \u001b[0mfindStable\u001b[0m\u001b[1;33m(\u001b[0m\u001b[0mX\u001b[0m\u001b[1;33m,\u001b[0m\u001b[0mY\u001b[0m\u001b[1;33m*\u001b[0m\u001b[0mmultiple\u001b[0m\u001b[1;33m,\u001b[0m\u001b[0mcountGap\u001b[0m \u001b[1;33m=\u001b[0m \u001b[0mcountGap\u001b[0m\u001b[1;33m,\u001b[0m\u001b[0mgap\u001b[0m \u001b[1;33m=\u001b[0m \u001b[0mgap\u001b[0m\u001b[1;33m,\u001b[0m\u001b[0merrorGap\u001b[0m \u001b[1;33m=\u001b[0m \u001b[0merrorGap\u001b[0m\u001b[1;33m,\u001b[0m\u001b[0mmean_range\u001b[0m \u001b[1;33m=\u001b[0m \u001b[0mmean_range\u001b[0m\u001b[1;33m,\u001b[0m\u001b[0mp_flag\u001b[0m \u001b[1;33m=\u001b[0m \u001b[0mp_flag\u001b[0m\u001b[1;33m,\u001b[0m\u001b[0moffset\u001b[0m \u001b[1;33m=\u001b[0m \u001b[0moffset\u001b[0m\u001b[1;33m)\u001b[0m\u001b[1;33m\u001b[0m\u001b[1;33m\u001b[0m\u001b[0m\n\u001b[0m\u001b[0;32m     13\u001b[0m     \u001b[0mplotStable\u001b[0m\u001b[1;33m(\u001b[0m\u001b[0mabf\u001b[0m\u001b[1;33m,\u001b[0m\u001b[0mX\u001b[0m\u001b[1;33m,\u001b[0m\u001b[0mY\u001b[0m\u001b[1;33m*\u001b[0m\u001b[0mmultiple\u001b[0m\u001b[1;33m,\u001b[0m\u001b[0mcirX\u001b[0m\u001b[1;33m,\u001b[0m\u001b[0mcirY\u001b[0m\u001b[1;33m,\u001b[0m\u001b[0mcountGap\u001b[0m\u001b[1;33m,\u001b[0m\u001b[0mx\u001b[0m\u001b[1;33m,\u001b[0m\u001b[0my\u001b[0m\u001b[1;33m)\u001b[0m\u001b[1;33m\u001b[0m\u001b[1;33m\u001b[0m\u001b[0m\n\u001b[0;32m     14\u001b[0m \u001b[1;33m\u001b[0m\u001b[0m\n",
      "\u001b[1;31mNameError\u001b[0m: name 'findStable' is not defined"
     ]
    }
   ],
   "source": [
    "# Check all graph\n",
    "interval = 10000\n",
    "p_flag = False\n",
    "abf.setSweep(0,channel=2)\n",
    "multiple = 1.4\n",
    "\n",
    "for i in range(0,len(abf.sweepY),interval):\n",
    "    print(i,i+interval+50)\n",
    "    #abf.setSweep(0,channel=2)\n",
    "    X = abf.sweepX[i:i+interval+50]\n",
    "    Y = abf.sweepY[i:i+interval+50]\n",
    "    cirX,cirY,result,far,end,stable,_,_,x,y  = findStable(X,Y*multiple,countGap = countGap,gap = gap,errorGap = errorGap,mean_range = mean_range,p_flag = p_flag,offset = offset)\n",
    "    plotStable(abf,X,Y*multiple,cirX,cirY,countGap,x,y)\n",
    "    \n",
    "    #abf.setSweep(0,channel=0)\n",
    "    #Y = abf.sweepY[i:i+interval+50]\n",
    "    #plotCurrent(abf,X,Y,stable,mean_range)\n",
    "    #plotUnstable(X,Y,countGap,gap,errorGap)"
   ]
  },
  {
   "cell_type": "markdown",
   "id": "47f9103d",
   "metadata": {},
   "source": [
    "# Start"
   ]
  },
  {
   "cell_type": "markdown",
   "id": "2179d7b5",
   "metadata": {},
   "source": [
    "* 800mV 21n05000.abf: 3120 + 4(start) = 3124\n",
    "* 700mV 21n05001.abf: 3120 + 4(start) + 41(end) = 3165 \n",
    "* 600mV 21n05002.abf: 3120 + 4(start) = 3124\n",
    "* 500mV 21n05003.abf: 3120 + 6(start) + 21(end) = 3147\n",
    "* 400mV 21n05004.abf: Last point have only close, 3120+5(start)+1(end) = 3126\n",
    "* 300mV 21n05005.abf: 3120 + 4(start) + 39(end) = 3163\n",
    "* 600mV 21930014.abf: 3120 + 5(start)  = 3125\n",
    "* 800mV 21d04000.abf: 3120 + 6(start) + 30(end) =3156"
   ]
  },
  {
   "cell_type": "code",
   "execution_count": 106,
   "id": "d02ffd4a",
   "metadata": {},
   "outputs": [],
   "source": [
    "#Load an ABF File\n",
    "abfFile = \"22214004.abf\"\n",
    "abf = pyabf.ABF(\"abf\\\\\"+abfFile)\n",
    "abf.setSweep(0,channel=2)\n",
    "EMF_mag = []"
   ]
  },
  {
   "cell_type": "code",
   "execution_count": 73,
   "id": "f25a874f",
   "metadata": {
    "scrolled": true
   },
   "outputs": [],
   "source": [
    "# Load txt file\n",
    "file = \"EMF 300mV.txt\"\n",
    "EMF_mag = readTxt(file)"
   ]
  },
  {
   "cell_type": "code",
   "execution_count": 107,
   "id": "9110ee8e",
   "metadata": {},
   "outputs": [],
   "source": [
    "# parameters\n",
    "X = abf.sweepX\n",
    "Y = abf.sweepY\n",
    "#if len(EMF_mag) != 0:\n",
    "#    Y = EMF_mag\n",
    "countGap = 50\n",
    "gap = 0.65\n",
    "errorGap = 5\n",
    "mean_range = 50\n",
    "p_flag = False\n",
    "bins = 50\n",
    "start_ignore = 4\n",
    "end_ignore = 41\n",
    "pqty = 40\n",
    "start_extra = 4\n",
    "end_extra = 39\n",
    "threshold = 10\n",
    "title_prefix = \"300mV\"\n",
    "fig_save_path =getcwd()+\"\\\\result\\\\\"\n",
    "offset = 10\n",
    "Row = 25\n",
    "Col = 100"
   ]
  },
  {
   "cell_type": "code",
   "execution_count": 108,
   "id": "9aca708e",
   "metadata": {},
   "outputs": [],
   "source": [
    "cirX,cirY,result,close,far,stable,stable_close,stable_far,x,y = findStable(X,Y,countGap = countGap,gap = gap,errorGap = errorGap,mean_range = mean_range,p_flag = p_flag,threshold = threshold,offset = offset)"
   ]
  },
  {
   "cell_type": "code",
   "execution_count": 109,
   "id": "2016824e",
   "metadata": {},
   "outputs": [
    {
     "name": "stdout",
     "output_type": "stream",
     "text": [
      "3127\n"
     ]
    }
   ],
   "source": [
    "# Only when title_prefix == \"400mV\"\n",
    "if title_prefix == \"400mV\":\n",
    "    close = close[:-1]\n",
    "    stable_close = stable_close[:-1]\n",
    "print(len(close))"
   ]
  },
  {
   "cell_type": "code",
   "execution_count": 110,
   "id": "09c98892",
   "metadata": {},
   "outputs": [
    {
     "data": {
      "image/png": "[encoded data removed]",
      "text/plain": [
       "<Figure size 432x288 with 1 Axes>"
      ]
     },
     "metadata": {
      "needs_background": "light"
     },
     "output_type": "display_data"
    }
   ],
   "source": [
    "plt.figure()\n",
    "plt.hist((close,far),bins=bins,label = ('EMF close','EMF far'),color = ('red','blue'))\n",
    "plt.legend()\n",
    "plt.title(\"%s %d-value mean histogram\"%(title_prefix,mean_range))\n",
    "plt.savefig(\"%s %d-value mean histogram\"%(title_prefix,mean_range))\n",
    "plt.show()"
   ]
  },
  {
   "cell_type": "code",
   "execution_count": 20,
   "id": "ab4d1b75",
   "metadata": {},
   "outputs": [
    {
     "name": "stdout",
     "output_type": "stream",
     "text": [
      "604 -41\n",
      "604 -41\n"
     ]
    }
   ],
   "source": [
    "aut_close,quartz_close = separate(close,Row = Row, Col = Col,pqty = pqty,start_ignore = start_ignore, end_ignore = end_ignore, start_extra = start_extra, end_extra = end_extra)\n",
    "aut_far,quartz_far = separate(far,Row = Row, Col = Col,pqty = pqty,start_ignore = start_ignore, end_ignore = end_ignore,start_extra = start_extra, end_extra = end_extra)"
   ]
  },
  {
   "cell_type": "code",
   "execution_count": 21,
   "id": "dffc889f",
   "metadata": {
    "scrolled": false
   },
   "outputs": [
    {
     "data": {
      "image/png": "[encoded data removed]",
      "text/plain": [
       "<Figure size 432x288 with 1 Axes>"
      ]
     },
     "metadata": {
      "needs_background": "light"
     },
     "output_type": "display_data"
    },
    {
     "data": {
      "image/png": "[encoded data removed]",
      "text/plain": [
       "<Figure size 432x288 with 1 Axes>"
      ]
     },
     "metadata": {
      "needs_background": "light"
     },
     "output_type": "display_data"
    },
    {
     "data": {
      "image/png": "[encoded data removed]",
      "text/plain": [
       "<Figure size 432x288 with 1 Axes>"
      ]
     },
     "metadata": {
      "needs_background": "light"
     },
     "output_type": "display_data"
    }
   ],
   "source": [
    "plt.figure()\n",
    "plt.hist((aut_close,quartz_close,aut_far,quartz_far),bins=bins,label = ('EMF close-AUT','EMF close-QUARTZ','EMF far-AUT','EMF far-QUARTZ'),color = ('red','blue','darkorange','green'))\n",
    "plt.legend()\n",
    "plt.title(\"%s %d-value mean histogram\"%(title_prefix,mean_range))\n",
    "plt.savefig(\"%s %d-value mean histogram\"%(title_prefix,mean_range))\n",
    "plt.show()\n",
    "\n",
    "plt.figure()\n",
    "plt.hist((aut_close-aut_far,quartz_close-quartz_far),bins=bins,label = ('AUT','QUARTZ'),color = ('red','blue'))\n",
    "plt.legend()\n",
    "plt.title(\"%s %d-value mean,close-far histogram\"%(title_prefix,mean_range))\n",
    "plt.savefig(fig_save_path+title_prefix + \" 50-value mean,close-far histogram\")\n",
    "plt.show()\n",
    "\n",
    "plt.figure()\n",
    "plt.hist((aut_close/aut_far,quartz_close/quartz_far),bins=bins,label = ('AUT','QUARTZ'),color = ('red','blue'))\n",
    "plt.legend()\n",
    "plt.title(title_prefix + \" 50-value mean,close/far histogram\")\n",
    "plt.savefig(fig_save_path+title_prefix + \" 50-value mean,close divide far histogram\")\n",
    "plt.show()"
   ]
  },
  {
   "cell_type": "code",
   "execution_count": 22,
   "id": "d978853b",
   "metadata": {},
   "outputs": [
    {
     "name": "stdout",
     "output_type": "stream",
     "text": [
      "AUT: 1.967524 +- 1.805756\n",
      "QUARTZ: 1.645251 +- 0.541944\n"
     ]
    },
    {
     "data": {
      "image/png": "[encoded data removed]",
      "text/plain": [
       "<Figure size 1152x345.6 with 2 Axes>"
      ]
     },
     "metadata": {
      "needs_background": "light"
     },
     "output_type": "display_data"
    }
   ],
   "source": [
    "aut = aut_close/aut_far\n",
    "quartz = quartz_close/quartz_far\n",
    "\n",
    "a = aut\n",
    "mean = np.mean(a)\n",
    "Max = np.max(a)\n",
    "Min = np.min(a)\n",
    "print(\"AUT: %lf +- %lf\" %(mean,max(Max-mean,mean-Min)))\n",
    "a = quartz\n",
    "mean = np.mean(a)\n",
    "Max = np.max(a)\n",
    "Min = np.min(a)\n",
    "print(\"QUARTZ: %lf +- %lf\" %(mean,max(Max-mean,mean-Min)))\n",
    "\n",
    "aut = np.reshape(aut,(24,pqty))\n",
    "quartz = np.reshape(quartz,(24,pqty))\n",
    "\n",
    "EMF_normalized_data = np.hstack((aut,quartz))\n",
    "plot_colormap(EMF_normalized_data,title = title_prefix + \" EMF close divide far\",path = fig_save_path)\n"
   ]
  },
  {
   "cell_type": "code",
   "execution_count": 23,
   "id": "d6674382",
   "metadata": {},
   "outputs": [
    {
     "name": "stdout",
     "output_type": "stream",
     "text": [
      "AUT: 18.674100 +- 48.488986\n",
      "QUARTZ: 12.776928 +- 12.546558\n"
     ]
    },
    {
     "data": {
      "image/png": "[encoded data removed]",
      "text/plain": [
       "<Figure size 1152x345.6 with 2 Axes>"
      ]
     },
     "metadata": {
      "needs_background": "light"
     },
     "output_type": "display_data"
    }
   ],
   "source": [
    "aut = aut_close-aut_far\n",
    "quartz = quartz_close-quartz_far\n",
    "\n",
    "a = aut\n",
    "mean = np.mean(a)\n",
    "Max = np.max(a)\n",
    "Min = np.min(a)\n",
    "print(\"AUT: %lf +- %lf\" %(mean,max(Max-mean,mean-Min)))\n",
    "a = quartz\n",
    "mean = np.mean(a)\n",
    "Max = np.max(a)\n",
    "Min = np.min(a)\n",
    "print(\"QUARTZ: %lf +- %lf\" %(mean,max(Max-mean,mean-Min)))\n",
    "\n",
    "aut = np.reshape(aut,(24,pqty))\n",
    "quartz = np.reshape(quartz,(24,pqty))\n",
    "\n",
    "data = np.hstack((aut,quartz))\n",
    "plot_colormap(data,title = title_prefix + \" EMF close - far\",path = fig_save_path)"
   ]
  },
  {
   "cell_type": "code",
   "execution_count": 24,
   "id": "432a9afd",
   "metadata": {},
   "outputs": [
    {
     "name": "stdout",
     "output_type": "stream",
     "text": [
      "604 -41\n",
      "604 -41\n"
     ]
    }
   ],
   "source": [
    "# Calculate on Current\n",
    "abf.setSweep(0,channel=0)\n",
    "X = abf.sweepX\n",
    "Y = abf.sweepY\n",
    "pqty = 50\n",
    "mean_range=30\n",
    "\n",
    "I_close,_,_ = calculateAvg(X,Y,stable_close,mean_range=mean_range)\n",
    "I_far,_,_ = calculateAvg(X,Y,stable_far,mean_range=mean_range)\n",
    "I_aut_close,I_quartz_close = separate(I_close,Row = Row, Col = Col,pqty = pqty,start_ignore = start_ignore, end_ignore = end_ignore, start_extra = start_extra, end_extra = end_extra)\n",
    "I_aut_far,I_quartz_far = separate(I_far,Row = Row, Col = Col,pqty = pqty,start_ignore = start_ignore, end_ignore = end_ignore, start_extra = start_extra, end_extra = end_extra)"
   ]
  },
  {
   "cell_type": "code",
   "execution_count": 25,
   "id": "1b2cc797",
   "metadata": {},
   "outputs": [
    {
     "data": {
      "image/png": "[encoded data removed]",
      "text/plain": [
       "<Figure size 432x288 with 1 Axes>"
      ]
     },
     "metadata": {
      "needs_background": "light"
     },
     "output_type": "display_data"
    },
    {
     "data": {
      "image/png": "[encoded data removed]",
      "text/plain": [
       "<Figure size 432x288 with 1 Axes>"
      ]
     },
     "metadata": {
      "needs_background": "light"
     },
     "output_type": "display_data"
    },
    {
     "data": {
      "image/png": "[encoded data removed]",
      "text/plain": [
       "<Figure size 432x288 with 1 Axes>"
      ]
     },
     "metadata": {
      "needs_background": "light"
     },
     "output_type": "display_data"
    }
   ],
   "source": [
    "plt.figure()\n",
    "plt.hist((I_aut_close,I_quartz_close,I_aut_far,I_quartz_far),bins=bins,label = ('Current close-AUT','Current close-QUARTZ','Current far-AUT','Current far-QUARTZ'),color = ('red','blue','darkorange','green'))\n",
    "plt.legend()\n",
    "plt.title(title_prefix + \" 50-value Current mean histogram\")\n",
    "plt.savefig(fig_save_path+title_prefix + \" 50-value Current mean histogram\")\n",
    "plt.show()\n",
    "\n",
    "plt.figure()\n",
    "plt.hist((I_aut_close-I_aut_far,I_quartz_close-I_quartz_far),bins=bins,label = ('AUT','QUARTZ'),color = ('red','blue'))\n",
    "plt.legend()\n",
    "plt.title(title_prefix + \" 50-value mean,close-far histogram\")\n",
    "plt.savefig(fig_save_path+title_prefix + \" 50-value mean,Current close-far histogram\")\n",
    "plt.show()\n",
    "\n",
    "plt.figure()\n",
    "plt.hist((I_aut_close/I_aut_far,I_quartz_close/I_quartz_far),bins=bins,label = ('AUT','QUARTZ'),color = ('red','blue'))\n",
    "plt.legend()\n",
    "plt.title(title_prefix + \" 50-value mean,close/far histogram\")\n",
    "plt.savefig(fig_save_path+title_prefix + \" 50-value mean,Current close divide far histogram\")\n",
    "plt.show()"
   ]
  },
  {
   "cell_type": "code",
   "execution_count": 26,
   "id": "f1161fe7",
   "metadata": {},
   "outputs": [],
   "source": [
    "I_aut = I_aut_close/I_aut_far\n",
    "I_quartz = I_quartz_close/I_quartz_far"
   ]
  },
  {
   "cell_type": "code",
   "execution_count": 27,
   "id": "7917c19b",
   "metadata": {},
   "outputs": [
    {
     "data": {
      "image/png": "[encoded data removed]",
      "text/plain": [
       "<Figure size 432x288 with 1 Axes>"
      ]
     },
     "metadata": {
      "needs_background": "light"
     },
     "output_type": "display_data"
    }
   ],
   "source": [
    "plt.figure()\n",
    "plt.hist((I_aut,I_quartz),bins=bins,label = ('AUT','QUARTZ'),color = ('red','blue'))\n",
    "plt.legend()\n",
    "plt.title(title_prefix + \" 50-value mean,Current close/Current far histogram\")\n",
    "plt.savefig(fig_save_path+title_prefix + \" 50-value mean,Current close divide Current far histogram\")\n",
    "plt.show()"
   ]
  },
  {
   "cell_type": "code",
   "execution_count": 28,
   "id": "a91eaa87",
   "metadata": {
    "scrolled": false
   },
   "outputs": [
    {
     "name": "stdout",
     "output_type": "stream",
     "text": [
      "AUT: 1.117468 +- 0.480705\n",
      "QUARTZ: 0.986320 +- 0.088619\n"
     ]
    },
    {
     "data": {
      "image/png": "[encoded data removed]",
      "text/plain": [
       "<Figure size 1440x345.6 with 2 Axes>"
      ]
     },
     "metadata": {
      "needs_background": "light"
     },
     "output_type": "display_data"
    }
   ],
   "source": [
    "a = I_aut\n",
    "mean = np.mean(a)\n",
    "Max = np.max(a)\n",
    "Min = np.min(a)\n",
    "print(\"AUT: %lf +- %lf\" %(mean,max(Max-mean,mean-Min)))\n",
    "a = I_quartz\n",
    "mean = np.mean(a)\n",
    "Max = np.max(a)\n",
    "Min = np.min(a)\n",
    "print(\"QUARTZ: %lf +- %lf\" %(mean,max(Max-mean,mean-Min)))\n",
    "\n",
    "I_aut = np.reshape(I_aut,(24,pqty))\n",
    "I_quartz = np.reshape(I_quartz,(24,pqty))\n",
    "\n",
    "Current_normalized_data = np.hstack((I_aut,I_quartz))\n",
    "\n",
    "plot_colormap(Current_normalized_data,title = title_prefix +  \" Current close divide far\",path = fig_save_path)"
   ]
  },
  {
   "cell_type": "code",
   "execution_count": 29,
   "id": "f8b80dba",
   "metadata": {},
   "outputs": [
    {
     "name": "stdout",
     "output_type": "stream",
     "text": [
      "AUT: 0.369809 +- 1.614954\n",
      "QUARTZ: -0.042618 +- 0.276575\n"
     ]
    },
    {
     "data": {
      "image/png": "[encoded data removed]",
      "text/plain": [
       "<Figure size 1440x345.6 with 2 Axes>"
      ]
     },
     "metadata": {
      "needs_background": "light"
     },
     "output_type": "display_data"
    }
   ],
   "source": [
    "I_aut = I_aut_close-I_aut_far\n",
    "I_quartz = I_quartz_close-I_quartz_far\n",
    "\n",
    "a = I_aut\n",
    "mean = np.mean(a)\n",
    "Max = np.max(a)\n",
    "Min = np.min(a)\n",
    "print(\"AUT: %lf +- %lf\" %(mean,max(Max-mean,mean-Min)))\n",
    "a = I_quartz\n",
    "mean = np.mean(a)\n",
    "Max = np.max(a)\n",
    "Min = np.min(a)\n",
    "print(\"QUARTZ: %lf +- %lf\" %(mean,max(Max-mean,mean-Min)))\n",
    "\n",
    "I_aut = np.reshape(I_aut,(24,pqty))\n",
    "I_quartz = np.reshape(I_quartz,(24,pqty))\n",
    "\n",
    "data = np.hstack((I_aut,I_quartz))\n",
    "\n",
    "plot_colormap(data,title = title_prefix +  \" Current close - far\",path = fig_save_path)\n"
   ]
  },
  {
   "cell_type": "code",
   "execution_count": 30,
   "id": "b36c8728",
   "metadata": {},
   "outputs": [],
   "source": [
    "current = abf.sweepY\n",
    "abf.setSweep(0,channel=2)\n",
    "X = abf.sweepX\n",
    "Y = abf.sweepY\n",
    "log_close,log_far = logStable(X,Y,current,stable_close,stable_far,pqty)"
   ]
  },
  {
   "cell_type": "code",
   "execution_count": 31,
   "id": "42b0bdd3",
   "metadata": {},
   "outputs": [],
   "source": [
    "# Output following information to csv file\n",
    "header = ['timeStart', 'timeEnd', 'pqty', 'close','mean EMF','mean I']\n",
    "\n",
    "with open(\"result\\\\\"+abfFile+'_result.csv', 'w', encoding='UTF8', newline='') as f:\n",
    "    writer = csv.writer(f)\n",
    "\n",
    "    # write the header\n",
    "    writer.writerow(header)\n",
    "\n",
    "    # write the data\n",
    "    for log in log_close:\n",
    "        data = [log.timeStart, log.timeEnd, log.pqty, log.close,log.mEMF,log.mI]\n",
    "        writer.writerow(data)\n",
    "        \n",
    "    for log in log_far:\n",
    "        data = [log.timeStart, log.timeEnd, log.pqty, log.close,log.mEMF,log.mI]\n",
    "        writer.writerow(data)"
   ]
  },
  {
   "cell_type": "code",
   "execution_count": 32,
   "id": "dbb50355",
   "metadata": {},
   "outputs": [],
   "source": [
    "with open(\"result\\\\\"+abfFile+'_current.csv', 'w', encoding='UTF8', newline='') as f:\n",
    "    writer = csv.writer(f)\n",
    "\n",
    "    # write the data\n",
    "    for row in Current_normalized_data:\n",
    "        writer.writerow(row)"
   ]
  },
  {
   "cell_type": "code",
   "execution_count": 33,
   "id": "bf4f5c88",
   "metadata": {},
   "outputs": [],
   "source": [
    "with open(\"result\\\\\"+abfFile+'_EMF.csv', 'w', encoding='UTF8', newline='') as f:\n",
    "    writer = csv.writer(f)\n",
    "\n",
    "    # write the data\n",
    "    for row in EMF_normalized_data:\n",
    "        writer.writerow(row)"
   ]
  },
  {
   "cell_type": "code",
   "execution_count": null,
   "id": "cb6af4a6",
   "metadata": {},
   "outputs": [],
   "source": []
  },
  {
   "cell_type": "code",
   "execution_count": null,
   "id": "5dd9bbe1",
   "metadata": {},
   "outputs": [],
   "source": []
  }
 ],
 "metadata": {
  "kernelspec": {
   "display_name": "Python 3 (ipykernel)",
   "language": "python",
   "name": "python3"
  },
  "language_info": {
   "codemirror_mode": {
    "name": "ipython",
    "version": 3
   },
   "file_extension": ".py",
   "mimetype": "text/x-python",
   "name": "python",
   "nbconvert_exporter": "python",
   "pygments_lexer": "ipython3",
   "version": "3.8.5"
  }
 },
 "nbformat": 4,
 "nbformat_minor": 5
}
